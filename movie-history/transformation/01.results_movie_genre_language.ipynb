{
 "cells": [
  {
   "cell_type": "markdown",
   "metadata": {
    "application/vnd.databricks.v1+cell": {
     "cellMetadata": {
      "byteLimit": 2048000,
      "rowLimit": 10000
     },
     "inputWidgets": {},
     "nuid": "9b542e03-0f7d-4b9e-9061-716b3cd0452d",
     "showTitle": false,
     "tableResultSettingsMap": {},
     "title": ""
    }
   },
   "source": [
    "### Carga de la tabla result_movie_genre_language en la capa Gold"
   ]
  },
  {
   "cell_type": "markdown",
   "metadata": {
    "application/vnd.databricks.v1+cell": {
     "cellMetadata": {
      "byteLimit": 2048000,
      "rowLimit": 10000
     },
     "inputWidgets": {},
     "nuid": "c5c19e20-06b0-4342-8a56-b5f882bfe8da",
     "showTitle": false,
     "tableResultSettingsMap": {},
     "title": ""
    }
   },
   "source": [
    "#### Paso 0 - Actualizando las variables globales y las funciones comunes."
   ]
  },
  {
   "cell_type": "code",
   "execution_count": 0,
   "metadata": {
    "application/vnd.databricks.v1+cell": {
     "cellMetadata": {
      "byteLimit": 2048000,
      "rowLimit": 10000
     },
     "inputWidgets": {},
     "nuid": "6cb2622e-c10d-4ea8-9c90-91a0c67bf774",
     "showTitle": false,
     "tableResultSettingsMap": {},
     "title": ""
    }
   },
   "outputs": [],
   "source": [
    "dbutils.widgets.text(\"p_file_date\", \"2024-12-30\")\n",
    "v_file_date = dbutils.widgets.get(\"p_file_date\")"
   ]
  },
  {
   "cell_type": "code",
   "execution_count": 0,
   "metadata": {
    "application/vnd.databricks.v1+cell": {
     "cellMetadata": {
      "byteLimit": 2048000,
      "rowLimit": 10000
     },
     "inputWidgets": {},
     "nuid": "260a6cbe-b6b5-44b4-a0de-41fa2d85c96b",
     "showTitle": false,
     "tableResultSettingsMap": {},
     "title": ""
    }
   },
   "outputs": [],
   "source": [
    "%run \"../includes/configuration\""
   ]
  },
  {
   "cell_type": "code",
   "execution_count": 0,
   "metadata": {
    "application/vnd.databricks.v1+cell": {
     "cellMetadata": {
      "byteLimit": 2048000,
      "rowLimit": 10000
     },
     "inputWidgets": {},
     "nuid": "868282d0-9e55-4083-bbff-ca67c17dfd13",
     "showTitle": false,
     "tableResultSettingsMap": {},
     "title": ""
    }
   },
   "outputs": [],
   "source": [
    "%run \"../includes/common_functions\""
   ]
  },
  {
   "cell_type": "markdown",
   "metadata": {
    "application/vnd.databricks.v1+cell": {
     "cellMetadata": {
      "byteLimit": 2048000,
      "rowLimit": 10000
     },
     "inputWidgets": {},
     "nuid": "fe4a660c-81c1-4cc4-bc57-322f2018a76d",
     "showTitle": false,
     "tableResultSettingsMap": {},
     "title": ""
    }
   },
   "source": [
    "%md\n",
    "#### Paso 1 - Leyendo todas las tablas necesarias.\""
   ]
  },
  {
   "cell_type": "code",
   "execution_count": 0,
   "metadata": {
    "application/vnd.databricks.v1+cell": {
     "cellMetadata": {
      "byteLimit": 2048000,
      "rowLimit": 10000
     },
     "inputWidgets": {},
     "nuid": "85d93cd8-62b9-4cc1-aeb9-ea9de1b0c6b8",
     "showTitle": false,
     "tableResultSettingsMap": {},
     "title": ""
    }
   },
   "outputs": [],
   "source": [
    "#movies_20XX_df = spark.read.parquet(f\"{silver_folder_path}/movies\") \\\n",
    "#                        .filter(\"year_release_date >= 2000\") \\\n",
    "#                        .filter(f\"file_date = '{v_file_date}'\")\n",
    "\n",
    "movies_20XX_df = spark.read.format(\"delta\").load(f\"{silver_folder_path}/movies\") \\\n",
    "                        .filter(\"year_release_date >= 2000\") \\\n",
    "                        .filter(f\"file_date = '{v_file_date}'\")"
   ]
  },
  {
   "cell_type": "code",
   "execution_count": 0,
   "metadata": {
    "application/vnd.databricks.v1+cell": {
     "cellMetadata": {
      "byteLimit": 2048000,
      "rowLimit": 10000
     },
     "inputWidgets": {},
     "nuid": "98babda8-b364-4d7d-96bc-89daab2420dc",
     "showTitle": false,
     "tableResultSettingsMap": {},
     "title": ""
    }
   },
   "outputs": [],
   "source": [
    "movies_20XX_df.count()"
   ]
  },
  {
   "cell_type": "code",
   "execution_count": 0,
   "metadata": {
    "application/vnd.databricks.v1+cell": {
     "cellMetadata": {
      "byteLimit": 2048000,
      "rowLimit": 10000
     },
     "inputWidgets": {},
     "nuid": "6e8e1615-2b5c-4a39-b78c-de66345e320b",
     "showTitle": false,
     "tableResultSettingsMap": {},
     "title": ""
    }
   },
   "outputs": [],
   "source": [
    "#movies_lang_df = spark.read.parquet(f\"{silver_folder_path}/movies_languages\") \\\n",
    "#                            .filter(f\"file_date = '{v_file_date}'\")\n",
    "\n",
    "movies_lang_df = spark.read.format(\"delta\").load(f\"{silver_folder_path}/movies_languages\") \\\n",
    "                            .filter(f\"file_date = '{v_file_date}'\")"
   ]
  },
  {
   "cell_type": "code",
   "execution_count": 0,
   "metadata": {
    "application/vnd.databricks.v1+cell": {
     "cellMetadata": {
      "byteLimit": 2048000,
      "rowLimit": 10000
     },
     "inputWidgets": {},
     "nuid": "9ea35a30-d2e8-440a-8da8-7e9130d4228d",
     "showTitle": false,
     "tableResultSettingsMap": {},
     "title": ""
    }
   },
   "outputs": [],
   "source": [
    "#lang_df = spark.read.parquet(f\"{silver_folder_path}/languages\")\n",
    "lang_df = spark.read.format(\"delta\").load(f\"{silver_folder_path}/languages\")"
   ]
  },
  {
   "cell_type": "code",
   "execution_count": 0,
   "metadata": {
    "application/vnd.databricks.v1+cell": {
     "cellMetadata": {
      "byteLimit": 2048000,
      "rowLimit": 10000
     },
     "inputWidgets": {},
     "nuid": "66562ac5-cd28-4908-a9b7-aea7680b0830",
     "showTitle": false,
     "tableResultSettingsMap": {},
     "title": ""
    }
   },
   "outputs": [],
   "source": [
    "# movie_genre_df = spark.read.parquet(f\"{silver_folder_path}/movie_genre\") \\\n",
    "#                             .filter(f\"file_date = '{v_file_date}'\")\n",
    "\n",
    "movie_genre_df = spark.read.format(\"delta\").load(f\"{silver_folder_path}/movie_genre\") \\\n",
    "                            .filter(f\"file_date = '{v_file_date}'\")"
   ]
  },
  {
   "cell_type": "code",
   "execution_count": 0,
   "metadata": {
    "application/vnd.databricks.v1+cell": {
     "cellMetadata": {
      "byteLimit": 2048000,
      "rowLimit": 10000
     },
     "inputWidgets": {},
     "nuid": "1d6ca08d-eed0-4862-8f97-745613b119b9",
     "showTitle": false,
     "tableResultSettingsMap": {},
     "title": ""
    }
   },
   "outputs": [],
   "source": [
    "#genre_df = spark.read.parquet(f\"{silver_folder_path}/genre\")\n",
    "genre_df = spark.read.format(\"delta\").load(f\"{silver_folder_path}/genre\")"
   ]
  },
  {
   "cell_type": "markdown",
   "metadata": {
    "application/vnd.databricks.v1+cell": {
     "cellMetadata": {
      "byteLimit": 2048000,
      "rowLimit": 10000
     },
     "inputWidgets": {},
     "nuid": "a68c72d2-03d6-4e0d-80a9-4d6af142aae8",
     "showTitle": false,
     "tableResultSettingsMap": {},
     "title": ""
    }
   },
   "source": [
    "### Paso 2 - Generando el DataFrame con todos los requisitos\n",
    "\n",
    "- Realiza un **inner join** entre todas las tablas  \n",
    "- Selecciona todos los campos necesarios  \n",
    "- Elimina todas las filas duplicadas  \n",
    "- Ordena por **fecha de lanzamiento** en orden descendente  \n",
    "- Llama a la función para agregar la **fecha y hora actual**"
   ]
  },
  {
   "cell_type": "code",
   "execution_count": 0,
   "metadata": {
    "application/vnd.databricks.v1+cell": {
     "cellMetadata": {
      "byteLimit": 2048000,
      "rowLimit": 10000
     },
     "inputWidgets": {},
     "nuid": "a04e50bf-0b07-442c-b1b1-9704e43e6964",
     "showTitle": false,
     "tableResultSettingsMap": {},
     "title": ""
    }
   },
   "outputs": [],
   "source": [
    "results_movie_genre_lang_df = movies_20XX_df.join(movie_genre_df, \n",
    "                                                  movies_20XX_df.movie_id == movie_genre_df.movie_id,\n",
    "                                                  \"inner\") \\\n",
    "                                            .join(genre_df, \n",
    "                                                  movie_genre_df.genre_id == genre_df.genre_id,\n",
    "                                                  \"inner\") \\\n",
    "                                            .join(movies_lang_df, \n",
    "                                                  movies_20XX_df.movie_id == movies_lang_df.movie_id,\n",
    "                                                  \"inner\") \\\n",
    "                                            .join(lang_df,\n",
    "                                                  movies_lang_df.language_id == lang_df.language_id,\n",
    "                                                  \"inner\") \\\n",
    "                                            .select(movies_20XX_df.movie_id,\n",
    "                                                    movies_lang_df.language_id,\n",
    "                                                    movie_genre_df.genre_id,\n",
    "                                                    movies_20XX_df.title,\n",
    "                                                    movies_20XX_df.duration_time,\n",
    "                                                    movies_20XX_df.release_date,\n",
    "                                                    movies_20XX_df.vote_average,\n",
    "                                                    lang_df.language_name,\n",
    "                                                    genre_df.genre_name) \\\n",
    "                                            .distinct() \\\n",
    "                                            .sort(movies_20XX_df.release_date.desc())"
   ]
  },
  {
   "cell_type": "code",
   "execution_count": 0,
   "metadata": {
    "application/vnd.databricks.v1+cell": {
     "cellMetadata": {
      "byteLimit": 2048000,
      "rowLimit": 10000
     },
     "inputWidgets": {},
     "nuid": "44dc2b25-c4df-4b96-85d4-b10b5da9da3c",
     "showTitle": false,
     "tableResultSettingsMap": {},
     "title": ""
    }
   },
   "outputs": [],
   "source": [
    "from pyspark.sql.functions import lit\n",
    "\n",
    "#results_movie_genre_lang_final_df = add_ingestion_date(results_movie_genre_lang_df)\n",
    "results_movie_genre_lang_final_df = results_movie_genre_lang_df \\\n",
    "                                    .withColumn(\"created_date\", lit(v_file_date))"
   ]
  },
  {
   "cell_type": "markdown",
   "metadata": {
    "application/vnd.databricks.v1+cell": {
     "cellMetadata": {
      "byteLimit": 2048000,
      "rowLimit": 10000
     },
     "inputWidgets": {},
     "nuid": "f23b9083-c910-4a64-9590-bde660974025",
     "showTitle": false,
     "tableResultSettingsMap": {},
     "title": ""
    }
   },
   "source": [
    "### Paso 3 - Generando el archivo final en la carpeta Gold"
   ]
  },
  {
   "cell_type": "code",
   "execution_count": 0,
   "metadata": {
    "application/vnd.databricks.v1+cell": {
     "cellMetadata": {
      "byteLimit": 2048000,
      "rowLimit": 10000
     },
     "inputWidgets": {},
     "nuid": "8b1aa0bd-477d-40f0-a5ee-9a78e499bec6",
     "showTitle": false,
     "tableResultSettingsMap": {},
     "title": ""
    }
   },
   "outputs": [],
   "source": [
    "#drop_partition_if_exists(results_movie_genre_lang_final_df, \"movie_gold\", \"results_movie_genre_language\", \"created_date\")"
   ]
  },
  {
   "cell_type": "code",
   "execution_count": 0,
   "metadata": {
    "application/vnd.databricks.v1+cell": {
     "cellMetadata": {
      "byteLimit": 2048000,
      "rowLimit": 10000
     },
     "inputWidgets": {},
     "nuid": "c4d3eeb4-1408-46dc-be81-6e0ed7f35e20",
     "showTitle": false,
     "tableResultSettingsMap": {},
     "title": ""
    }
   },
   "outputs": [],
   "source": [
    "#results_movie_genre_lang_final_df.write.mode(\"overwrite\").parquet(f\"{gold_folder_path}/results_movie_genre_language\")\n",
    "\n",
    "# results_movie_genre_lang_final_df.write \\\n",
    "#             .mode(\"append\") \\\n",
    "#             .partitionBy(\"created_date\") \\\n",
    "#             .format(\"parquet\") \\\n",
    "#             .saveAsTable(\"movie_gold.results_movie_genre_language\")\n",
    "\n",
    "#Caso a tabela não existir, cria a tabela com os dados, senão efetua um merge dos dados na tabela\n",
    "merge_delta_lake(results_movie_genre_lang_final_df, \"movie_gold\", \"results_movie_genre_language\", gold_folder_path, \"tgt.movie_id = src.movie_id AND tgt.language_id = src.language_id AND tgt.genre_id = src.genre_id\", \"created_date\")"
   ]
  },
  {
   "cell_type": "code",
   "execution_count": 0,
   "metadata": {
    "application/vnd.databricks.v1+cell": {
     "cellMetadata": {
      "byteLimit": 2048000,
      "rowLimit": 10000
     },
     "inputWidgets": {},
     "nuid": "28c8d4a3-7c45-45b3-83e8-2961535f9e01",
     "showTitle": false,
     "tableResultSettingsMap": {},
     "title": ""
    }
   },
   "outputs": [],
   "source": [
    "#display(spark.read.parquet(f\"{gold_folder_path}/results_movie_genre_language\"))\n",
    "spark.sql(\"SELECT created_date, count(*) \\\n",
    "           FROM movie_gold.results_movie_genre_language \\\n",
    "           GROUP BY created_date\").display() \n"
   ]
  }
 ],
 "metadata": {
  "application/vnd.databricks.v1+notebook": {
   "computePreferences": null,
   "dashboards": [],
   "environmentMetadata": {
    "base_environment": "",
    "environment_version": "2"
   },
   "inputWidgetPreferences": null,
   "language": "python",
   "notebookMetadata": {
    "mostRecentlyExecutedCommandWithImplicitDF": {
     "commandId": 5260816037840578,
     "dataframes": [
      "_sqldf"
     ]
    },
    "pythonIndentUnit": 4
   },
   "notebookName": "01.results_movie_genre_language",
   "widgets": {
    "p_file_date": {
     "currentValue": "2024-12-30",
     "nuid": "19ae35cc-b39d-4ba1-bda4-0a7c343d0f9f",
     "typedWidgetInfo": {
      "autoCreated": false,
      "defaultValue": "2024-12-30",
      "label": null,
      "name": "p_file_date",
      "options": {
       "widgetDisplayType": "Text",
       "validationRegex": null
      },
      "parameterDataType": "String"
     },
     "widgetInfo": {
      "widgetType": "text",
      "defaultValue": "2024-12-30",
      "label": null,
      "name": "p_file_date",
      "options": {
       "widgetType": "text",
       "autoCreated": null,
       "validationRegex": null
      }
     }
    }
   }
  },
  "language_info": {
   "name": "python"
  }
 },
 "nbformat": 4,
 "nbformat_minor": 0
}
