{
 "cells": [
  {
   "cell_type": "markdown",
   "metadata": {
    "application/vnd.databricks.v1+cell": {
     "cellMetadata": {
      "byteLimit": 2048000,
      "rowLimit": 10000
     },
     "inputWidgets": {},
     "nuid": "9b542e03-0f7d-4b9e-9061-716b3cd0452d",
     "showTitle": false,
     "tableResultSettingsMap": {},
     "title": ""
    }
   },
   "source": [
    "### Carga de la tabla results_country_prod_company en la capa Gold"
   ]
  },
  {
   "cell_type": "markdown",
   "metadata": {
    "application/vnd.databricks.v1+cell": {
     "cellMetadata": {
      "byteLimit": 2048000,
      "rowLimit": 10000
     },
     "inputWidgets": {},
     "nuid": "c5c19e20-06b0-4342-8a56-b5f882bfe8da",
     "showTitle": false,
     "tableResultSettingsMap": {},
     "title": ""
    }
   },
   "source": [
    "#### Paso 0 - Actualizando las variables globales y las funciones comunes."
   ]
  },
  {
   "cell_type": "code",
   "execution_count": 0,
   "metadata": {
    "application/vnd.databricks.v1+cell": {
     "cellMetadata": {
      "byteLimit": 2048000,
      "rowLimit": 10000
     },
     "inputWidgets": {},
     "nuid": "cd4b2fcb-71b9-44e3-9b9f-6eb6d7a6778e",
     "showTitle": false,
     "tableResultSettingsMap": {},
     "title": ""
    }
   },
   "outputs": [],
   "source": [
    "dbutils.widgets.text(\"p_file_date\", \"\")\n",
    "v_file_date = dbutils.widgets.get(\"p_file_date\")"
   ]
  },
  {
   "cell_type": "code",
   "execution_count": 0,
   "metadata": {
    "application/vnd.databricks.v1+cell": {
     "cellMetadata": {
      "byteLimit": 2048000,
      "rowLimit": 10000
     },
     "inputWidgets": {},
     "nuid": "260a6cbe-b6b5-44b4-a0de-41fa2d85c96b",
     "showTitle": false,
     "tableResultSettingsMap": {},
     "title": ""
    }
   },
   "outputs": [],
   "source": [
    "%run \"../includes/configuration\""
   ]
  },
  {
   "cell_type": "code",
   "execution_count": 0,
   "metadata": {
    "application/vnd.databricks.v1+cell": {
     "cellMetadata": {
      "byteLimit": 2048000,
      "rowLimit": 10000
     },
     "inputWidgets": {},
     "nuid": "868282d0-9e55-4083-bbff-ca67c17dfd13",
     "showTitle": false,
     "tableResultSettingsMap": {},
     "title": ""
    }
   },
   "outputs": [],
   "source": [
    "%run \"../includes/common_functions\""
   ]
  },
  {
   "cell_type": "markdown",
   "metadata": {
    "application/vnd.databricks.v1+cell": {
     "cellMetadata": {
      "byteLimit": 2048000,
      "rowLimit": 10000
     },
     "inputWidgets": {},
     "nuid": "fe4a660c-81c1-4cc4-bc57-322f2018a76d",
     "showTitle": false,
     "tableResultSettingsMap": {},
     "title": ""
    }
   },
   "source": [
    "#### Paso 1 - Leyendo todas las tablas necesarias.\""
   ]
  },
  {
   "cell_type": "code",
   "execution_count": 0,
   "metadata": {
    "application/vnd.databricks.v1+cell": {
     "cellMetadata": {
      "byteLimit": 2048000,
      "rowLimit": 10000
     },
     "inputWidgets": {},
     "nuid": "85d93cd8-62b9-4cc1-aeb9-ea9de1b0c6b8",
     "showTitle": false,
     "tableResultSettingsMap": {},
     "title": ""
    }
   },
   "outputs": [],
   "source": [
    "# movies_df = spark.read.parquet(f\"{silver_folder_path}/movies\") \\\n",
    "#                     .filter(\"year_release_date >= 2010\") \\\n",
    "#                     .filter(f\"file_date = '{v_file_date}'\")\n",
    "\n",
    "movies_df = spark.read.format(\"delta\").load(f\"{silver_folder_path}/movies\") \\\n",
    "                        .filter(\"year_release_date >= 2010\") \\\n",
    "                        .filter(f\"file_date = '{v_file_date}'\")"
   ]
  },
  {
   "cell_type": "code",
   "execution_count": 0,
   "metadata": {
    "application/vnd.databricks.v1+cell": {
     "cellMetadata": {
      "byteLimit": 2048000,
      "rowLimit": 10000
     },
     "inputWidgets": {},
     "nuid": "98babda8-b364-4d7d-96bc-89daab2420dc",
     "showTitle": false,
     "tableResultSettingsMap": {},
     "title": ""
    }
   },
   "outputs": [],
   "source": [
    "#movies_df.count()"
   ]
  },
  {
   "cell_type": "code",
   "execution_count": 0,
   "metadata": {
    "application/vnd.databricks.v1+cell": {
     "cellMetadata": {
      "byteLimit": 2048000,
      "rowLimit": 10000
     },
     "inputWidgets": {},
     "nuid": "abeba2f5-e2db-4e6a-9238-2934674c6dbe",
     "showTitle": false,
     "tableResultSettingsMap": {},
     "title": ""
    }
   },
   "outputs": [],
   "source": [
    "# production_country_df = spark.read.parquet(f\"{silver_folder_path}/productions_countries\") \\\n",
    "#                                 .filter(f\"file_date = '{v_file_date}'\")\n",
    "\n",
    "production_country_df = spark.read.format(\"delta\").load(f\"{silver_folder_path}/productions_countries\") \\\n",
    "                                .filter(f\"file_date = '{v_file_date}'\")"
   ]
  },
  {
   "cell_type": "code",
   "execution_count": 0,
   "metadata": {
    "application/vnd.databricks.v1+cell": {
     "cellMetadata": {
      "byteLimit": 2048000,
      "rowLimit": 10000
     },
     "inputWidgets": {},
     "nuid": "939748e1-8926-4292-823f-ce8e1a1d2d79",
     "showTitle": false,
     "tableResultSettingsMap": {},
     "title": ""
    }
   },
   "outputs": [],
   "source": [
    "# country_df = spark.read.parquet(f\"{silver_folder_path}/countries\")\n",
    "country_df = spark.read.format(\"delta\").load(f\"{silver_folder_path}/countries\")"
   ]
  },
  {
   "cell_type": "code",
   "execution_count": 0,
   "metadata": {
    "application/vnd.databricks.v1+cell": {
     "cellMetadata": {
      "byteLimit": 2048000,
      "rowLimit": 10000
     },
     "inputWidgets": {},
     "nuid": "ceba1d10-4144-4052-8599-5fce3848cd40",
     "showTitle": false,
     "tableResultSettingsMap": {},
     "title": ""
    }
   },
   "outputs": [],
   "source": [
    "# movie_company_df = spark.read.parquet(f\"{silver_folder_path}/movies_companies\") \\\n",
    "#                                 .filter(f\"file_date = '{v_file_date}'\")\n",
    "\n",
    "movie_company_df = spark.read.format(\"delta\").load(f\"{silver_folder_path}/movies_companies\") \\\n",
    "                                .filter(f\"file_date = '{v_file_date}'\")"
   ]
  },
  {
   "cell_type": "code",
   "execution_count": 0,
   "metadata": {
    "application/vnd.databricks.v1+cell": {
     "cellMetadata": {
      "byteLimit": 2048000,
      "rowLimit": 10000
     },
     "inputWidgets": {},
     "nuid": "d396d415-8399-4f5c-81a9-d24de25424cd",
     "showTitle": false,
     "tableResultSettingsMap": {},
     "title": ""
    }
   },
   "outputs": [],
   "source": [
    "# production_company_df = spark.read.parquet(f\"{silver_folder_path}/productions_companies\")\n",
    "production_company_df = spark.read.format(\"delta\").load(f\"{silver_folder_path}/productions_companies\")"
   ]
  },
  {
   "cell_type": "markdown",
   "metadata": {
    "application/vnd.databricks.v1+cell": {
     "cellMetadata": {
      "byteLimit": 2048000,
      "rowLimit": 10000
     },
     "inputWidgets": {},
     "nuid": "a68c72d2-03d6-4e0d-80a9-4d6af142aae8",
     "showTitle": false,
     "tableResultSettingsMap": {},
     "title": ""
    }
   },
   "source": [
    "### Paso 2 - Generando el DataFrame con todos los requisitos\n",
    "\n",
    "- Realiza un **inner join** entre todas las tablas  \n",
    "- Selecciona todos los campos necesarios  \n",
    "- Elimina todas las filas duplicadas  \n",
    "- Ordena por **título de la pelicula** en orden ascendente  \n",
    "- Llama a la función para agregar la **fecha y hora actual**"
   ]
  },
  {
   "cell_type": "code",
   "execution_count": 0,
   "metadata": {
    "application/vnd.databricks.v1+cell": {
     "cellMetadata": {
      "byteLimit": 2048000,
      "rowLimit": 10000
     },
     "inputWidgets": {},
     "nuid": "125ceace-5b23-48f7-9831-0d5012c662a9",
     "showTitle": false,
     "tableResultSettingsMap": {},
     "title": ""
    }
   },
   "outputs": [],
   "source": [
    "results_country_prod_company_df = movies_df.join(movie_company_df, \n",
    "                                                  movies_df.movie_id == movie_company_df.movie_id,\n",
    "                                                  \"inner\") \\\n",
    "                                                .join(production_company_df, \n",
    "                                                  movie_company_df.company_id == production_company_df.company_id,\n",
    "                                                  \"inner\") \\\n",
    "                                            .join(production_country_df, \n",
    "                                                  movies_df.movie_id == production_country_df.movie_id,\n",
    "                                                  \"inner\") \\\n",
    "                                            .join(country_df, \n",
    "                                                  production_country_df.country_id == country_df.country_id,\n",
    "                                                  \"inner\") \\\n",
    "                                            .select(movies_df.movie_id,\n",
    "                                                    movie_company_df.company_id,\n",
    "                                                    production_country_df.country_id,\n",
    "                                                    movies_df.title,\n",
    "                                                    movies_df.budget,\n",
    "                                                    movies_df.revenue,\n",
    "                                                    movies_df.duration_time,\n",
    "                                                    movies_df.release_date,\n",
    "                                                    country_df.country_name,\n",
    "                                                    production_company_df.company_name) \\\n",
    "                                            .sort(movies_df.title.asc())"
   ]
  },
  {
   "cell_type": "code",
   "execution_count": 0,
   "metadata": {
    "application/vnd.databricks.v1+cell": {
     "cellMetadata": {
      "byteLimit": 2048000,
      "rowLimit": 10000
     },
     "inputWidgets": {},
     "nuid": "44dc2b25-c4df-4b96-85d4-b10b5da9da3c",
     "showTitle": false,
     "tableResultSettingsMap": {},
     "title": ""
    }
   },
   "outputs": [],
   "source": [
    "from pyspark.sql.functions import lit\n",
    "\n",
    "#results_country_prod_company_final_df = add_ingestion_date(results_country_prod_company_df)\n",
    "results_country_prod_company_final_df = results_country_prod_company_df \\\n",
    "                                        .withColumn(\"created_date\", lit(v_file_date))"
   ]
  },
  {
   "cell_type": "markdown",
   "metadata": {
    "application/vnd.databricks.v1+cell": {
     "cellMetadata": {
      "byteLimit": 2048000,
      "rowLimit": 10000
     },
     "inputWidgets": {},
     "nuid": "f23b9083-c910-4a64-9590-bde660974025",
     "showTitle": false,
     "tableResultSettingsMap": {},
     "title": ""
    }
   },
   "source": [
    "### Paso 3 - Generando el archivo final en la carpeta Gold"
   ]
  },
  {
   "cell_type": "code",
   "execution_count": 0,
   "metadata": {
    "application/vnd.databricks.v1+cell": {
     "cellMetadata": {
      "byteLimit": 2048000,
      "rowLimit": 10000
     },
     "inputWidgets": {},
     "nuid": "d9d7736a-cdb1-4ae1-9142-e0322fb67ad1",
     "showTitle": false,
     "tableResultSettingsMap": {},
     "title": ""
    }
   },
   "outputs": [],
   "source": [
    "#drop_partition_if_exists(results_country_prod_company_final_df, \"movie_gold\", \"results_country_prod_company\", \"created_date\")"
   ]
  },
  {
   "cell_type": "code",
   "execution_count": 0,
   "metadata": {
    "application/vnd.databricks.v1+cell": {
     "cellMetadata": {
      "byteLimit": 2048000,
      "rowLimit": 10000
     },
     "inputWidgets": {},
     "nuid": "c4d3eeb4-1408-46dc-be81-6e0ed7f35e20",
     "showTitle": false,
     "tableResultSettingsMap": {},
     "title": ""
    }
   },
   "outputs": [],
   "source": [
    "#results_country_prod_company_final_df.write.mode(\"overwrite\").parquet(f\"{gold_folder_path}/results_country_prod_company\")\n",
    "\n",
    "# results_country_prod_company_final_df.write.mode(\"append\") \\\n",
    "#                                     .partitionBy(\"created_date\") \\\n",
    "#                                     .format(\"parquet\") \\\n",
    "#                                     .saveAsTable(\"movie_gold.results_country_prod_company\")\n",
    "\n",
    "#Caso a tabela não existir, cria a tabela com os dados, senão efetua um merge dos dados na tabela\n",
    "merge_delta_lake(results_country_prod_company_final_df, \"movie_gold\", \"results_country_prod_company\", gold_folder_path, \"tgt.movie_id = src.movie_id AND tgt.company_id = src.company_id AND tgt.country_id = src.country_id\", \"created_date\")"
   ]
  },
  {
   "cell_type": "code",
   "execution_count": 0,
   "metadata": {
    "application/vnd.databricks.v1+cell": {
     "cellMetadata": {
      "byteLimit": 2048000,
      "rowLimit": 10000
     },
     "inputWidgets": {},
     "nuid": "28c8d4a3-7c45-45b3-83e8-2961535f9e01",
     "showTitle": false,
     "tableResultSettingsMap": {},
     "title": ""
    }
   },
   "outputs": [],
   "source": [
    "#display(spark.read.parquet(f\"{gold_folder_path}/results_country_prod_company\"))\n",
    "spark.sql(\"SELECT created_date, count(*) \\\n",
    "           FROM movie_gold.results_country_prod_company \\\n",
    "           GROUP BY created_date\").display()"
   ]
  }
 ],
 "metadata": {
  "application/vnd.databricks.v1+notebook": {
   "computePreferences": null,
   "dashboards": [],
   "environmentMetadata": {
    "base_environment": "",
    "environment_version": "2"
   },
   "inputWidgetPreferences": null,
   "language": "python",
   "notebookMetadata": {
    "mostRecentlyExecutedCommandWithImplicitDF": {
     "commandId": 6434615522107604,
     "dataframes": [
      "_sqldf"
     ]
    },
    "pythonIndentUnit": 4
   },
   "notebookName": "02.results_country_prod_company",
   "widgets": {
    "p_file_date": {
     "currentValue": "2024-12-24",
     "nuid": "32600ba6-0d93-4a63-99ed-72d64f768847",
     "typedWidgetInfo": {
      "autoCreated": false,
      "defaultValue": "",
      "label": null,
      "name": "p_file_date",
      "options": {
       "widgetDisplayType": "Text",
       "validationRegex": null
      },
      "parameterDataType": "String"
     },
     "widgetInfo": {
      "widgetType": "text",
      "defaultValue": "",
      "label": null,
      "name": "p_file_date",
      "options": {
       "widgetType": "text",
       "autoCreated": null,
       "validationRegex": null
      }
     }
    }
   }
  },
  "language_info": {
   "name": "python"
  }
 },
 "nbformat": 4,
 "nbformat_minor": 0
}
