{
 "cells": [
  {
   "cell_type": "markdown",
   "metadata": {
    "application/vnd.databricks.v1+cell": {
     "cellMetadata": {
      "byteLimit": 2048000,
      "rowLimit": 10000
     },
     "inputWidgets": {},
     "nuid": "579b229a-0a0d-4cfd-ab66-178650dfe1bf",
     "showTitle": false,
     "tableResultSettingsMap": {},
     "title": ""
    }
   },
   "source": [
    "### Carga de la tabla results_movie en la capa Gold"
   ]
  },
  {
   "cell_type": "code",
   "execution_count": 0,
   "metadata": {
    "application/vnd.databricks.v1+cell": {
     "cellMetadata": {
      "byteLimit": 2048000,
      "rowLimit": 10000
     },
     "inputWidgets": {},
     "nuid": "b0c4af4b-6327-445c-8261-636be30069e6",
     "showTitle": false,
     "tableResultSettingsMap": {},
     "title": ""
    }
   },
   "outputs": [],
   "source": [
    "dbutils.widgets.text(\"p_file_date\", \"2024-12-30\")\n",
    "v_file_date = dbutils.widgets.get(\"p_file_date\")"
   ]
  },
  {
   "cell_type": "code",
   "execution_count": 0,
   "metadata": {
    "application/vnd.databricks.v1+cell": {
     "cellMetadata": {
      "byteLimit": 2048000,
      "rowLimit": 10000
     },
     "inputWidgets": {},
     "nuid": "101f7f20-1391-432a-8177-8cb39db00887",
     "showTitle": false,
     "tableResultSettingsMap": {},
     "title": ""
    }
   },
   "outputs": [],
   "source": [
    "spark.sql(\"\"\"\n",
    "    CREATE TABLE IF NOT EXISTS movie_gold.results_movies (\n",
    "    year_release_date INT,\n",
    "    country_name STRING,\n",
    "    company_name STRING,\n",
    "    budget DOUBLE,\n",
    "    revenue DOUBLE,\n",
    "    movie_id INT,\n",
    "    country_id  INT,\n",
    "    company_id INT,\n",
    "    created_date DATE,\n",
    "    updated_date DATE)\n",
    "    USING DELTA\n",
    "\"\"\")"
   ]
  },
  {
   "cell_type": "code",
   "execution_count": 0,
   "metadata": {
    "application/vnd.databricks.v1+cell": {
     "cellMetadata": {
      "byteLimit": 2048000,
      "rowLimit": 10000
     },
     "inputWidgets": {},
     "nuid": "2e02f442-3775-46d7-a40e-4bdae4bbe058",
     "showTitle": false,
     "tableResultSettingsMap": {},
     "title": ""
    }
   },
   "outputs": [],
   "source": [
    "spark.sql(f\"\"\"\n",
    "    CREATE OR REPLACE TEMP VIEW v_results_movie\n",
    "    AS\n",
    "    SELECT M.year_release_date, C.country_name, PCO.company_name,\n",
    "        M.budget, M.revenue, M.movie_id, C.country_id, PCO.company_id\n",
    "    FROM movie_silver.movies M\n",
    "    INNER JOIN movie_silver.productions_countries PC ON M.movie_id = PC.movie_id\n",
    "    INNER JOIN movie_silver.countries C ON PC.country_id = C.country_id\n",
    "    INNER JOIN movie_silver.movies_companies MC ON M.movie_id = MC.movie_id\n",
    "    INNER JOIN movie_silver.productions_companies PCO ON MC.company_id = PCO.company_id\n",
    "    WHERE M.file_date = '{v_file_date}'\n",
    "\"\"\")"
   ]
  },
  {
   "cell_type": "code",
   "execution_count": 0,
   "metadata": {
    "application/vnd.databricks.v1+cell": {
     "cellMetadata": {
      "byteLimit": 2048000,
      "rowLimit": 10000
     },
     "inputWidgets": {},
     "nuid": "32b6c0dc-e7fa-478e-934d-2873d021a7d7",
     "showTitle": false,
     "tableResultSettingsMap": {},
     "title": ""
    }
   },
   "outputs": [],
   "source": [
    "spark.sql(\"\"\"\n",
    "    MERGE INTO movie_gold.results_movies AS target\n",
    "    USING v_results_movie AS source\n",
    "        ON (    target.movie_id = source.movie_id\n",
    "            AND target.country_id = source.country_id\n",
    "            AND target.company_id = source.company_id)\n",
    "    WHEN MATCHED THEN\n",
    "    UPDATE SET\n",
    "        target.year_release_date = source.year_release_date,\n",
    "        target.country_name = source.country_name,\n",
    "        target.company_name = source.company_name,\n",
    "        target.budget = source.budget,\n",
    "        target.revenue = source.revenue,\n",
    "        target.movie_id = source.movie_id,\n",
    "        target.country_id = source.country_id,\n",
    "        target.company_id = source.company_id,\n",
    "        target.updated_date = CURRENT_DATE()\n",
    "    WHEN NOT MATCHED THEN\n",
    "    INSERT (year_release_date, country_name, company_name, budget, revenue, movie_id, country_id, company_id, created_date)\n",
    "    VALUES (source.year_release_date, \n",
    "            source.country_name, \n",
    "            source.company_name, \n",
    "            source.budget, \n",
    "            source.revenue,\n",
    "            source.movie_id,\n",
    "            source.country_id,\n",
    "            source.company_id, \n",
    "            CURRENT_DATE()\n",
    "            )\n",
    "    \"\"\")"
   ]
  },
  {
   "cell_type": "code",
   "execution_count": 0,
   "metadata": {
    "application/vnd.databricks.v1+cell": {
     "cellMetadata": {
      "byteLimit": 2048000,
      "implicitDf": true,
      "rowLimit": 10000
     },
     "inputWidgets": {},
     "nuid": "2c0dbd39-ef62-4c71-ab3b-6f835e07fa7b",
     "showTitle": false,
     "tableResultSettingsMap": {},
     "title": ""
    }
   },
   "outputs": [],
   "source": [
    "%sql\n",
    "--SELECT COUNT(*) FROM movie_gold.results_movies\n",
    "--drop table  movie_gold.results_movies \n",
    "SELECT created_date, updated_date, count(*)\n",
    "FROM movie_gold.results_movies\n",
    "GROUP BY created_date, updated_date"
   ]
  }
 ],
 "metadata": {
  "application/vnd.databricks.v1+notebook": {
   "computePreferences": null,
   "dashboards": [],
   "environmentMetadata": {
    "base_environment": "",
    "environment_version": "2"
   },
   "inputWidgetPreferences": null,
   "language": "python",
   "notebookMetadata": {
    "mostRecentlyExecutedCommandWithImplicitDF": {
     "commandId": 7439257311310964,
     "dataframes": [
      "_sqldf"
     ]
    },
    "pythonIndentUnit": 4
   },
   "notebookName": "06.results_movie",
   "widgets": {
    "p_file_date": {
     "currentValue": "2024-12-23",
     "nuid": "03087dac-a336-416b-8bfd-f04137d31754",
     "typedWidgetInfo": {
      "autoCreated": false,
      "defaultValue": "2024-12-30",
      "label": null,
      "name": "p_file_date",
      "options": {
       "widgetDisplayType": "Text",
       "validationRegex": null
      },
      "parameterDataType": "String"
     },
     "widgetInfo": {
      "widgetType": "text",
      "defaultValue": "2024-12-30",
      "label": null,
      "name": "p_file_date",
      "options": {
       "widgetType": "text",
       "autoCreated": null,
       "validationRegex": null
      }
     }
    }
   }
  },
  "language_info": {
   "name": "python"
  }
 },
 "nbformat": 4,
 "nbformat_minor": 0
}
