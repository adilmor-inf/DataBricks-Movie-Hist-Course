{
 "cells": [
  {
   "cell_type": "code",
   "execution_count": 0,
   "metadata": {
    "application/vnd.databricks.v1+cell": {
     "cellMetadata": {
      "byteLimit": 2048000,
      "rowLimit": 10000
     },
     "inputWidgets": {},
     "nuid": "abf71643-4e26-4199-ae68-8cc24c579308",
     "showTitle": false,
     "tableResultSettingsMap": {},
     "title": ""
    }
   },
   "outputs": [],
   "source": [
    "#### Devolve um data frame incluindo a o timestamp na última coluna\n",
    "from pyspark.sql.functions import current_timestamp\n",
    "\n",
    "def add_ingestion_date(input_df):\n",
    "    output_df = input_df.withColumn(\"ingestion_date\", current_timestamp())\n",
    "    return output_df"
   ]
  },
  {
   "cell_type": "code",
   "execution_count": 0,
   "metadata": {
    "application/vnd.databricks.v1+cell": {
     "cellMetadata": {
      "byteLimit": 2048000,
      "rowLimit": 10000
     },
     "inputWidgets": {},
     "nuid": "3c4b1d86-60b2-4970-8560-00bfd5c2aad4",
     "showTitle": false,
     "tableResultSettingsMap": {},
     "title": ""
    }
   },
   "outputs": [],
   "source": [
    "#### Elimina uma partição de uma tabela caso a tabela/partição já exista\n",
    "# Usamos a função collect que retorna os dados em memória para apagar a partição se a tabela e partição já existir\n",
    "def drop_partition_if_exists(input_df, db_name, table_name, column_partition):\n",
    "    for item_list in input_df.select(f\"{column_partition}\").distinct().collect():\n",
    "        \n",
    "        if (spark._jsparkSession.catalog().tableExists(f\"{db_name}.{table_name}\")):\n",
    "        \n",
    "            spark.sql(f\"ALTER TABLE {db_name}.{table_name} DROP IF EXISTS PARTITION ({column_partition} = '{item_list[column_partition]}')\")"
   ]
  },
  {
   "cell_type": "code",
   "execution_count": 0,
   "metadata": {
    "application/vnd.databricks.v1+cell": {
     "cellMetadata": {
      "byteLimit": 2048000,
      "rowLimit": 10000
     },
     "inputWidgets": {},
     "nuid": "f6aa954f-2a32-4140-9779-64ef503c3454",
     "showTitle": false,
     "tableResultSettingsMap": {},
     "title": ""
    }
   },
   "outputs": [],
   "source": [
    "### Função para validar se o arquivo existe\n",
    "def valida_arquivo(folder_path, file_date, file_name):\n",
    "    file_path = f\"{folder_path}/{file_date}/{file_name}\"\n",
    "    try:\n",
    "        dbutils.fs.ls(file_path)\n",
    "        print(f\"Processando arquivo: {file_path}\")\n",
    "    except Exception as e:\n",
    "        dbutils.notebook.exit(f\"Arquivo não encontrado no caminho: {file_path}\")"
   ]
  },
  {
   "cell_type": "code",
   "execution_count": 0,
   "metadata": {
    "application/vnd.databricks.v1+cell": {
     "cellMetadata": {
      "byteLimit": 2048000,
      "rowLimit": 10000
     },
     "inputWidgets": {},
     "nuid": "f9dbb1f0-5936-430d-a531-87577a78766d",
     "showTitle": false,
     "tableResultSettingsMap": {},
     "title": ""
    }
   },
   "outputs": [],
   "source": [
    "### Função para validar se a pasta e arquivos existem\n",
    "from fnmatch import fnmatch\n",
    "\n",
    "def valida_pasta_arquivo(folder_path, file_date, subfolder, file_name_pattern):\n",
    "    # Monta o caminho completo\n",
    "    folder_full_path = f\"{folder_path.rstrip('/')}/{file_date}/{subfolder.strip('/')}/\"\n",
    "\n",
    "    try:\n",
    "        # Tenta listar os arquivos da pasta\n",
    "        files = dbutils.fs.ls(folder_full_path)\n",
    "    except Exception as e:\n",
    "        # Trata erro de pasta inexistente\n",
    "        if \"FileNotFoundException\" in str(e):\n",
    "            dbutils.notebook.exit(f\"Pasta não encontrada: {folder_full_path}\")\n",
    "        else:\n",
    "            dbutils.notebook.exit(f\"Erro ao acessar a pasta: {folder_full_path} - {str(e)}\")\n",
    "    \n",
    "    # Filtra arquivos que casam com o padrão\n",
    "    matching_files = [f.path for f in files if fnmatch(f.name, file_name_pattern)]\n",
    "\n",
    "    if matching_files:\n",
    "        for path in matching_files:\n",
    "            print(f\"Processando arquivo: {path}\")\n",
    "    else:\n",
    "        dbutils.notebook.exit(\n",
    "            f\"Nenhum arquivo encontrado com padrão '{file_name_pattern}' em {folder_full_path}\"\n",
    "        )\n",
    "#Exemplo de uso\n",
    "#valida_pasta_arquivo(\"/mnt/moviehistoryadilmor/bronze\", \"2024-12-24\", \"production_company\", \"production_company_*.csv\")"
   ]
  },
  {
   "cell_type": "code",
   "execution_count": 0,
   "metadata": {
    "application/vnd.databricks.v1+cell": {
     "cellMetadata": {
      "byteLimit": 2048000,
      "rowLimit": 10000
     },
     "inputWidgets": {},
     "nuid": "8cf5c59d-cf08-455f-8219-c450961ef6a0",
     "showTitle": false,
     "tableResultSettingsMap": {},
     "title": ""
    }
   },
   "outputs": [],
   "source": [
    "### Função para efetuar merge de uma data frame com uma tabela delta final\n",
    "def merge_delta_lake(input_df, db_name, table_name, folder_path, merge_condition, partition_column):\n",
    "    \n",
    "    from delta.tables import DeltaTable\n",
    "\n",
    "    if (spark._jsparkSession.catalog().tableExists(f\"{db_name}.{table_name}\")):\n",
    "\n",
    "        deltaTable = DeltaTable.forPath(spark, f\"{folder_path}/{table_name}\")\n",
    "\n",
    "        deltaTable.alias(\"tgt\") \\\n",
    "        .merge(\n",
    "            input_df.alias(\"src\"),\n",
    "            merge_condition\n",
    "            ) \\\n",
    "        .whenMatchedUpdateAll() \\\n",
    "        .whenNotMatchedInsertAll() \\\n",
    "        .execute()\n",
    "\n",
    "    else:\n",
    "        input_df.write.mode(\"overwrite\").partitionBy(partition_column).format(\"delta\").saveAsTable(f\"{db_name}.{table_name}\")"
   ]
  }
 ],
 "metadata": {
  "application/vnd.databricks.v1+notebook": {
   "computePreferences": null,
   "dashboards": [],
   "environmentMetadata": {
    "base_environment": "",
    "environment_version": "2"
   },
   "inputWidgetPreferences": null,
   "language": "python",
   "notebookMetadata": {
    "pythonIndentUnit": 4
   },
   "notebookName": "common_functions",
   "widgets": {}
  },
  "language_info": {
   "name": "python"
  }
 },
 "nbformat": 4,
 "nbformat_minor": 0
}
