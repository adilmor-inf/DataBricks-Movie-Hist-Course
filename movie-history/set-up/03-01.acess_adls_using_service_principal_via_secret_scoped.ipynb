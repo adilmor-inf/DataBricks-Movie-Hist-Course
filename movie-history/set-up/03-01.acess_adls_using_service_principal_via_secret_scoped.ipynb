{
 "cells": [
  {
   "cell_type": "markdown",
   "metadata": {
    "application/vnd.databricks.v1+cell": {
     "cellMetadata": {},
     "inputWidgets": {},
     "nuid": "58b9099d-2518-48dd-a9cd-4b414002358a",
     "showTitle": false,
     "tableResultSettingsMap": {},
     "title": ""
    }
   },
   "source": [
    "### Acceder a Azure Data Lake Storage mediante Service Principal\n",
    "1. Registrar la Aplicación en Azure Entra ID (Antigo AD) / Service Principal\n",
    "2. Generar un secreto(Contraseña) para la aplicación\n",
    "3. configurqar Spark con APP / Client Id, Directory / Tenand ID & Secret\n",
    "4. Asignar el Role \"Storage Blob Data Contributor al Data Lake"
   ]
  },
  {
   "cell_type": "code",
   "execution_count": 0,
   "metadata": {
    "application/vnd.databricks.v1+cell": {
     "cellMetadata": {
      "byteLimit": 2048000,
      "rowLimit": 10000
     },
     "inputWidgets": {},
     "nuid": "f7d440c8-cf1f-4b9c-bc00-cfddcee5d2ea",
     "showTitle": false,
     "tableResultSettingsMap": {},
     "title": ""
    }
   },
   "outputs": [],
   "source": [
    "movie_sp_client_id = dbutils.secrets.get(scope = \"movie-history-secret-scope\", key = \"movie-service-princip-client-id\")\n",
    "movie_sp_tenant_id = dbutils.secrets.get(scope = \"movie-history-secret-scope\", key = \"movie-service-princip-tenant-id\")\n",
    "movie_sp_client_secret = dbutils.secrets.get(scope = \"movie-history-secret-scope\", key = \"movie-service-princip-client-secret\")"
   ]
  },
  {
   "cell_type": "code",
   "execution_count": 0,
   "metadata": {
    "application/vnd.databricks.v1+cell": {
     "cellMetadata": {
      "byteLimit": 2048000,
      "rowLimit": 10000
     },
     "inputWidgets": {},
     "nuid": "9ad908c4-d565-4b6d-bfcb-6c9e52ff40ae",
     "showTitle": false,
     "tableResultSettingsMap": {},
     "title": ""
    }
   },
   "outputs": [],
   "source": [
    "#3. configurqar Spark con APP / Client Id, Directory / Tenand ID & Secret\n",
    "\n",
    "spark.conf.set(\"fs.azure.account.auth.type.moviehistoryadilmor.dfs.core.windows.net\", \"OAuth\")\n",
    "spark.conf.set(\"fs.azure.account.oauth.provider.type.moviehistoryadilmor.dfs.core.windows.net\", \n",
    "               \"org.apache.hadoop.fs.azurebfs.oauth2.ClientCredsTokenProvider\")\n",
    "spark.conf.set(\"fs.azure.account.oauth2.client.id.moviehistoryadilmor.dfs.core.windows.net\", movie_sp_client_id)\n",
    "spark.conf.set(\"fs.azure.account.oauth2.client.secret.moviehistoryadilmor.dfs.core.windows.net\", movie_sp_client_secret)\n",
    "spark.conf.set(\"fs.azure.account.oauth2.client.endpoint.moviehistoryadilmor.dfs.core.windows.net\", \n",
    "               f\"https://login.microsoftonline.com/{movie_sp_tenant_id}/oauth2/token\")  #inclui-se o f para o python aceitar uma interpolação e aceitar a variável {tenant_id}\n"
   ]
  },
  {
   "cell_type": "code",
   "execution_count": 0,
   "metadata": {
    "application/vnd.databricks.v1+cell": {
     "cellMetadata": {},
     "inputWidgets": {},
     "nuid": "312103dd-9eff-42bc-9cbb-887545a1d7d2",
     "showTitle": false,
     "tableResultSettingsMap": {},
     "title": ""
    }
   },
   "outputs": [],
   "source": [
    "#4. Asignar el Role \"Storage Blob Data Contributor al Data Lake\n",
    "# Associado a \"Storage Blob Data Contributor\" em Acess control IAM dentro do Blob Storage moviehistadilmor"
   ]
  },
  {
   "cell_type": "code",
   "execution_count": 0,
   "metadata": {
    "application/vnd.databricks.v1+cell": {
     "cellMetadata": {
      "byteLimit": 2048000,
      "rowLimit": 10000
     },
     "inputWidgets": {},
     "nuid": "2c49c096-d321-4198-8775-ebe422d9b41a",
     "showTitle": false,
     "tableResultSettingsMap": {},
     "title": ""
    }
   },
   "outputs": [],
   "source": [
    "display(dbutils.fs.ls(\"abfss://demo@moviehistoryadilmor.dfs.core.windows.net\"))"
   ]
  },
  {
   "cell_type": "code",
   "execution_count": 0,
   "metadata": {
    "application/vnd.databricks.v1+cell": {
     "cellMetadata": {
      "byteLimit": 2048000,
      "rowLimit": 10000
     },
     "inputWidgets": {},
     "nuid": "2e225dfe-d32e-4595-bf37-6706955fbae5",
     "showTitle": false,
     "tableResultSettingsMap": {},
     "title": ""
    }
   },
   "outputs": [],
   "source": [
    "display(spark.read.csv(\"abfss://demo@moviehistoryadilmor.dfs.core.windows.net/movie.csv\"))"
   ]
  },
  {
   "cell_type": "code",
   "execution_count": 0,
   "metadata": {
    "application/vnd.databricks.v1+cell": {
     "cellMetadata": {},
     "inputWidgets": {},
     "nuid": "5052ffe7-b197-43f9-9961-30e1b1dd81b1",
     "showTitle": false,
     "tableResultSettingsMap": {},
     "title": ""
    }
   },
   "outputs": [],
   "source": []
  }
 ],
 "metadata": {
  "application/vnd.databricks.v1+notebook": {
   "computePreferences": null,
   "dashboards": [],
   "environmentMetadata": {
    "base_environment": "",
    "environment_version": "2"
   },
   "inputWidgetPreferences": null,
   "language": "python",
   "notebookMetadata": {
    "pythonIndentUnit": 4
   },
   "notebookName": "03-01.acess_adls_using_service_principal_via_secret_scoped",
   "widgets": {}
  },
  "language_info": {
   "name": "python"
  }
 },
 "nbformat": 4,
 "nbformat_minor": 0
}
