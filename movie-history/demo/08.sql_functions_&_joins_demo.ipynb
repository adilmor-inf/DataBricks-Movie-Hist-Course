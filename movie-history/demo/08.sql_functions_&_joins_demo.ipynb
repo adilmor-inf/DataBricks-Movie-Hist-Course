{
 "cells": [
  {
   "cell_type": "markdown",
   "metadata": {
    "application/vnd.databricks.v1+cell": {
     "cellMetadata": {},
     "inputWidgets": {},
     "nuid": "049f1c45-6a79-4c9b-a047-a085befc38a1",
     "showTitle": false,
     "tableResultSettingsMap": {},
     "title": ""
    }
   },
   "source": [
    "### Scalar Functions(Funciones Escalares) -- Um registro para cada linha"
   ]
  },
  {
   "cell_type": "code",
   "execution_count": 0,
   "metadata": {
    "application/vnd.databricks.v1+cell": {
     "cellMetadata": {
      "byteLimit": 2048000,
      "rowLimit": 10000
     },
     "inputWidgets": {},
     "nuid": "f1665356-65a1-45ca-87a9-a6cb9b13d602",
     "showTitle": false,
     "tableResultSettingsMap": {},
     "title": ""
    }
   },
   "outputs": [],
   "source": [
    "use movie_silver"
   ]
  },
  {
   "cell_type": "code",
   "execution_count": 0,
   "metadata": {
    "application/vnd.databricks.v1+cell": {
     "cellMetadata": {
      "byteLimit": 2048000,
      "rowLimit": 10000
     },
     "inputWidgets": {},
     "nuid": "4449d298-6e30-4d87-9f6a-5f06beba0c3b",
     "showTitle": false,
     "tableResultSettingsMap": {},
     "title": ""
    }
   },
   "outputs": [],
   "source": [
    "SELECT *, CONCAT(title, ' - ', release_date) AS title_with_release\n",
    "FROM movies\n",
    "LIMIT 30;"
   ]
  },
  {
   "cell_type": "code",
   "execution_count": 0,
   "metadata": {
    "application/vnd.databricks.v1+cell": {
     "cellMetadata": {
      "byteLimit": 2048000,
      "rowLimit": 10000
     },
     "inputWidgets": {},
     "nuid": "3248c369-49e7-40e4-80f6-005c130ce6a8",
     "showTitle": false,
     "tableResultSettingsMap": {},
     "title": ""
    }
   },
   "outputs": [],
   "source": [
    "SELECT SPLIT(name, ' '), SPLIT(name, ' ')[0] NAME, SPLIT(name, ' ')[2] SURNAME\n",
    "FROM persons\n",
    "LIMIT 10"
   ]
  },
  {
   "cell_type": "code",
   "execution_count": 0,
   "metadata": {
    "application/vnd.databricks.v1+cell": {
     "cellMetadata": {
      "byteLimit": 2048000,
      "rowLimit": 10000
     },
     "inputWidgets": {},
     "nuid": "e65d371c-8f03-4623-b231-33d1ee5d3ccd",
     "showTitle": false,
     "tableResultSettingsMap": {},
     "title": ""
    }
   },
   "outputs": [],
   "source": [
    "SELECT \n",
    "    release_date, \n",
    "    DATE_FORMAT(release_date, 'dd-MM-yyyy') AS release_date,\n",
    "    DATE_ADD(release_date, 1) AS `release_date+1`,\n",
    "    CURRENT_TIMESTAMP()\n",
    "FROM movies\n",
    "LIMIT 30;"
   ]
  },
  {
   "cell_type": "markdown",
   "metadata": {
    "application/vnd.databricks.v1+cell": {
     "cellMetadata": {},
     "inputWidgets": {},
     "nuid": "2b5a5952-90db-46b2-9583-e0df82ee89b3",
     "showTitle": false,
     "tableResultSettingsMap": {},
     "title": ""
    }
   },
   "source": [
    "### Agregate Functions(Funciones de Agregación) -- Um ou Vários registro para cada linha"
   ]
  },
  {
   "cell_type": "code",
   "execution_count": 0,
   "metadata": {
    "application/vnd.databricks.v1+cell": {
     "cellMetadata": {
      "byteLimit": 2048000,
      "rowLimit": 10000
     },
     "inputWidgets": {},
     "nuid": "922893e5-c372-4b9e-8c1b-f61bffd96d78",
     "showTitle": false,
     "tableResultSettingsMap": {},
     "title": ""
    }
   },
   "outputs": [],
   "source": [
    "SELECT \n",
    "    year_release_date,\n",
    "    COUNT(1) AS total_movies,\n",
    "    MAX(release_date) AS latest_movie,\n",
    "    SUM(budget) AS total_budget,\n",
    "    MIN(budget) AS min_budget,\n",
    "    AVG(budget) AS avg_budget,\n",
    "    STDDEV(budget) AS stddev_budget,\n",
    "    COUNT(DISTINCT title) AS total_distinct_movies\n",
    "FROM movies\n",
    "GROUP BY year_release_date\n",
    "HAVING total_movies > 220\n",
    "ORDER BY year_release_date DESC\n",
    "LIMIT 30;"
   ]
  },
  {
   "cell_type": "markdown",
   "metadata": {
    "application/vnd.databricks.v1+cell": {
     "cellMetadata": {},
     "inputWidgets": {},
     "nuid": "e7d23021-0d6f-4809-b36e-3971d0645dc3",
     "showTitle": false,
     "tableResultSettingsMap": {},
     "title": ""
    }
   },
   "source": [
    "### Window Functions(Funciones de Ventana)"
   ]
  },
  {
   "cell_type": "code",
   "execution_count": 0,
   "metadata": {
    "application/vnd.databricks.v1+cell": {
     "cellMetadata": {
      "byteLimit": 2048000,
      "rowLimit": 10000
     },
     "inputWidgets": {},
     "nuid": "df987fff-1f07-4427-b4d6-57667a7f0430",
     "showTitle": false,
     "tableResultSettingsMap": {},
     "title": ""
    }
   },
   "outputs": [],
   "source": [
    "SELECT \n",
    "    title, \n",
    "    year_release_date, \n",
    "    release_date, \n",
    "    RANK() OVER (PARTITION BY year_release_date ORDER BY release_date) AS RANK\n",
    "FROM movies\n",
    "WHERE year_release_date IS NOT NULL\n",
    "ORDER BY release_date;"
   ]
  },
  {
   "cell_type": "markdown",
   "metadata": {
    "application/vnd.databricks.v1+cell": {
     "cellMetadata": {},
     "inputWidgets": {},
     "nuid": "d07c8d65-00db-49a7-91f3-9922edff35fb",
     "showTitle": false,
     "tableResultSettingsMap": {},
     "title": ""
    }
   },
   "source": [
    "### Join entre tablas"
   ]
  },
  {
   "cell_type": "code",
   "execution_count": 0,
   "metadata": {
    "application/vnd.databricks.v1+cell": {
     "cellMetadata": {
      "byteLimit": 2048000,
      "rowLimit": 10000
     },
     "inputWidgets": {},
     "nuid": "caf4cd43-ea86-4163-9d25-49505ca16d8a",
     "showTitle": false,
     "tableResultSettingsMap": {},
     "title": ""
    }
   },
   "outputs": [],
   "source": [
    "CREATE OR REPLACE TEMP VIEW v_movies_2011 \n",
    "AS\n",
    "SELECT movie_id, title, budget, revenue, year_release_date, release_date\n",
    "FROM movies\n",
    "WHERE year_release_date = 2011"
   ]
  },
  {
   "cell_type": "code",
   "execution_count": 0,
   "metadata": {
    "application/vnd.databricks.v1+cell": {
     "cellMetadata": {
      "byteLimit": 2048000,
      "rowLimit": 10000
     },
     "inputWidgets": {},
     "nuid": "8fce01d2-3c23-407d-ab5e-ec0ce3781f02",
     "showTitle": false,
     "tableResultSettingsMap": {},
     "title": ""
    }
   },
   "outputs": [],
   "source": [
    "CREATE OR REPLACE TEMP VIEW v_production_countries\n",
    "AS\n",
    "SELECT * FROM productions_countries;"
   ]
  },
  {
   "cell_type": "code",
   "execution_count": 0,
   "metadata": {
    "application/vnd.databricks.v1+cell": {
     "cellMetadata": {
      "byteLimit": 2048000,
      "rowLimit": 10000
     },
     "inputWidgets": {},
     "nuid": "6548c5ae-0f20-4309-91c7-e9b7f9381b0b",
     "showTitle": false,
     "tableResultSettingsMap": {},
     "title": ""
    }
   },
   "outputs": [],
   "source": [
    "CREATE OR REPLACE TEMP VIEW v_countries\n",
    "AS\n",
    "SELECT country_id, country_name FROM countries;\n"
   ]
  },
  {
   "cell_type": "markdown",
   "metadata": {
    "application/vnd.databricks.v1+cell": {
     "cellMetadata": {},
     "inputWidgets": {},
     "nuid": "0f1d6cae-5b24-4e4c-8058-840de6324b82",
     "showTitle": false,
     "tableResultSettingsMap": {},
     "title": ""
    }
   },
   "source": [
    "### INNER"
   ]
  },
  {
   "cell_type": "code",
   "execution_count": 0,
   "metadata": {
    "application/vnd.databricks.v1+cell": {
     "cellMetadata": {
      "byteLimit": 2048000,
      "rowLimit": 10000
     },
     "inputWidgets": {},
     "nuid": "be10a5ff-3612-4c7c-bce6-c1cc1848e1b2",
     "showTitle": false,
     "tableResultSettingsMap": {},
     "title": ""
    }
   },
   "outputs": [],
   "source": [
    "SELECT VM.title, VM.budget, VM.revenue, VM.year_release_date, VM.release_date, VC.country_name\n",
    "FROM v_movies_2011 VM\n",
    "INNER JOIN v_production_countries VPC ON VM.movie_id = VPC.movie_id\n",
    "INNER JOIN v_countries VC ON VPC.country_id = VC.country_id"
   ]
  },
  {
   "cell_type": "markdown",
   "metadata": {
    "application/vnd.databricks.v1+cell": {
     "cellMetadata": {},
     "inputWidgets": {},
     "nuid": "1bb75aa3-34e1-4882-9d61-3c8e212142eb",
     "showTitle": false,
     "tableResultSettingsMap": {},
     "title": ""
    }
   },
   "source": [
    "### LEFT"
   ]
  },
  {
   "cell_type": "code",
   "execution_count": 0,
   "metadata": {
    "application/vnd.databricks.v1+cell": {
     "cellMetadata": {
      "byteLimit": 2048000,
      "rowLimit": 10000
     },
     "inputWidgets": {},
     "nuid": "6509332a-4945-408a-9102-87d1f65c5811",
     "showTitle": false,
     "tableResultSettingsMap": {},
     "title": ""
    }
   },
   "outputs": [],
   "source": [
    "SELECT VM.title, VM.budget, VM.revenue, VM.year_release_date, VM.release_date, VC.country_name\n",
    "FROM v_movies_2011 VM\n",
    "LEFT JOIN v_production_countries VPC ON VM.movie_id = VPC.movie_id\n",
    "LEFT JOIN v_countries VC ON VPC.country_id = VC.country_id\n",
    "WHERE VC.country_name IS NULL"
   ]
  },
  {
   "cell_type": "markdown",
   "metadata": {
    "application/vnd.databricks.v1+cell": {
     "cellMetadata": {},
     "inputWidgets": {},
     "nuid": "7ffe1230-de29-496f-8840-0866c90a8bc2",
     "showTitle": false,
     "tableResultSettingsMap": {},
     "title": ""
    }
   },
   "source": [
    "### RIGHT"
   ]
  },
  {
   "cell_type": "code",
   "execution_count": 0,
   "metadata": {
    "application/vnd.databricks.v1+cell": {
     "cellMetadata": {
      "byteLimit": 2048000,
      "rowLimit": 10000
     },
     "inputWidgets": {},
     "nuid": "146b56ab-fe92-432f-8348-3602e39392a8",
     "showTitle": false,
     "tableResultSettingsMap": {},
     "title": ""
    }
   },
   "outputs": [],
   "source": [
    "SELECT DISTINCT country_name FROM (\n",
    "SELECT VM.title, VM.budget, VM.revenue, VM.year_release_date, VM.release_date, VC.country_name\n",
    "FROM v_movies_2011 VM\n",
    "RIGHT JOIN v_production_countries VPC ON VM.movie_id = VPC.movie_id\n",
    "RIGHT JOIN v_countries VC ON VPC.country_id = VC.country_id\n",
    "WHERE VM.title IS NULL\n",
    ")"
   ]
  },
  {
   "cell_type": "markdown",
   "metadata": {
    "application/vnd.databricks.v1+cell": {
     "cellMetadata": {},
     "inputWidgets": {},
     "nuid": "5454fc83-88b5-48e2-8be5-bc65812e8b8a",
     "showTitle": false,
     "tableResultSettingsMap": {},
     "title": ""
    }
   },
   "source": [
    "### FULL JOIN"
   ]
  },
  {
   "cell_type": "code",
   "execution_count": 0,
   "metadata": {
    "application/vnd.databricks.v1+cell": {
     "cellMetadata": {
      "byteLimit": 2048000,
      "rowLimit": 10000
     },
     "inputWidgets": {},
     "nuid": "6c21140c-d7d4-4528-8ae6-7f4d493bc7d7",
     "showTitle": false,
     "tableResultSettingsMap": {},
     "title": ""
    }
   },
   "outputs": [],
   "source": [
    "SELECT VM.title, VM.budget, VM.revenue, VM.year_release_date, VM.release_date, VC.country_name\n",
    "FROM v_movies_2011 VM\n",
    "FULL JOIN v_production_countries VPC ON VM.movie_id = VPC.movie_id\n",
    "FULL JOIN v_countries VC ON VPC.country_id = VC.country_id\n",
    "WHERE VM.title IS NULL OR VC.country_name IS NULL"
   ]
  },
  {
   "cell_type": "markdown",
   "metadata": {
    "application/vnd.databricks.v1+cell": {
     "cellMetadata": {},
     "inputWidgets": {},
     "nuid": "0cca448b-5875-4d3b-ba91-7d6e178cef67",
     "showTitle": false,
     "tableResultSettingsMap": {},
     "title": ""
    }
   },
   "source": [
    "### SEMI JOIN - Retorna somente os registro do lado esquerdo que tem correspondente no direito\n",
    "### Idem ao EXISTS"
   ]
  },
  {
   "cell_type": "code",
   "execution_count": 0,
   "metadata": {
    "application/vnd.databricks.v1+cell": {
     "cellMetadata": {
      "byteLimit": 2048000,
      "rowLimit": 10000
     },
     "inputWidgets": {},
     "nuid": "8aff6e85-d5a6-4a15-b786-602b0401d2ab",
     "showTitle": false,
     "tableResultSettingsMap": {},
     "title": ""
    }
   },
   "outputs": [],
   "source": [
    "SELECT VM.title, VM.budget, VM.revenue, VM.year_release_date, VM.release_date --, VC.country_name\n",
    "FROM v_movies_2011 VM\n",
    "INNER JOIN v_production_countries VPC ON VM.movie_id = VPC.movie_id\n",
    "SEMI JOIN v_countries VC ON VPC.country_id = VC.country_id"
   ]
  },
  {
   "cell_type": "markdown",
   "metadata": {
    "application/vnd.databricks.v1+cell": {
     "cellMetadata": {},
     "inputWidgets": {},
     "nuid": "63087019-db02-49b7-aa4b-d51b11bdb175",
     "showTitle": false,
     "tableResultSettingsMap": {},
     "title": ""
    }
   },
   "source": [
    "##### ANTI JOIN - Retorna somente os registro do lado esquerdo que tem não tem correspondente no direito\n",
    "##### Idem ao NOT EXISTS"
   ]
  },
  {
   "cell_type": "code",
   "execution_count": 0,
   "metadata": {
    "application/vnd.databricks.v1+cell": {
     "cellMetadata": {
      "byteLimit": 2048000,
      "rowLimit": 10000
     },
     "inputWidgets": {},
     "nuid": "68d9c91a-609c-4971-9276-21aec9e6ad52",
     "showTitle": false,
     "tableResultSettingsMap": {},
     "title": ""
    }
   },
   "outputs": [],
   "source": [
    "SELECT VM.title, VM.budget, VM.revenue, VM.year_release_date, VM.release_date, VPC.movie_id, VPC.country_id\n",
    "FROM v_movies_2011 VM\n",
    "LEFT JOIN v_production_countries VPC ON VM.movie_id = VPC.movie_id\n",
    "ANTI JOIN v_countries VC ON VPC.country_id = VC.country_id"
   ]
  },
  {
   "cell_type": "markdown",
   "metadata": {
    "application/vnd.databricks.v1+cell": {
     "cellMetadata": {},
     "inputWidgets": {},
     "nuid": "24ddede6-9c8f-4391-8c3c-4ad9abf387f3",
     "showTitle": false,
     "tableResultSettingsMap": {},
     "title": ""
    }
   },
   "source": [
    "##### CROSS JOIN - Retorna um cartesiano entre o lado esquerdo e o direito"
   ]
  },
  {
   "cell_type": "code",
   "execution_count": 0,
   "metadata": {
    "application/vnd.databricks.v1+cell": {
     "cellMetadata": {},
     "inputWidgets": {},
     "nuid": "b947f394-47e3-4600-9da4-bf1e4a1432e2",
     "showTitle": false,
     "tableResultSettingsMap": {},
     "title": ""
    }
   },
   "outputs": [],
   "source": [
    "SELECT today, movies.*\n",
    "FROM (SELECT CURRENT_DATE AS today) AS today_table \n",
    "CROSS JOIN \n",
    "(SELECT VM.title, VM.budget, VM.revenue, VM.year_release_date, VM.release_date, VM.movie_id\n",
    "FROM v_movies_2011 VM) As movies"
   ]
  }
 ],
 "metadata": {
  "application/vnd.databricks.v1+notebook": {
   "computePreferences": null,
   "dashboards": [],
   "environmentMetadata": {
    "base_environment": "",
    "environment_version": "2"
   },
   "inputWidgetPreferences": null,
   "language": "sql",
   "notebookMetadata": {
    "pythonIndentUnit": 4
   },
   "notebookName": "08.sql_functions_&_joins_demo",
   "widgets": {}
  },
  "language_info": {
   "name": "sql"
  }
 },
 "nbformat": 4,
 "nbformat_minor": 0
}
