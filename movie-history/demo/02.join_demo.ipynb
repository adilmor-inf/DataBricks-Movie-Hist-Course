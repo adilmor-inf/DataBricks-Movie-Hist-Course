{
 "cells": [
  {
   "cell_type": "markdown",
   "metadata": {
    "application/vnd.databricks.v1+cell": {
     "cellMetadata": {
      "byteLimit": 2048000,
      "rowLimit": 10000
     },
     "inputWidgets": {},
     "nuid": "6842d8c0-5cd9-4c25-96f7-450ace1e7e4a",
     "showTitle": false,
     "tableResultSettingsMap": {},
     "title": ""
    }
   },
   "source": [
    "#### Spark Join Transformation"
   ]
  },
  {
   "cell_type": "markdown",
   "metadata": {
    "application/vnd.databricks.v1+cell": {
     "cellMetadata": {
      "byteLimit": 2048000,
      "rowLimit": 10000
     },
     "inputWidgets": {},
     "nuid": "43a457f7-e589-45f1-8a82-e7487625c6f7",
     "showTitle": false,
     "tableResultSettingsMap": {},
     "title": ""
    }
   },
   "source": [
    "#### Inner Join"
   ]
  },
  {
   "cell_type": "code",
   "execution_count": 0,
   "metadata": {
    "application/vnd.databricks.v1+cell": {
     "cellMetadata": {
      "byteLimit": 2048000,
      "rowLimit": 10000
     },
     "inputWidgets": {},
     "nuid": "fd67702d-9b2d-48d1-93d8-cf307bfb7e4d",
     "showTitle": false,
     "tableResultSettingsMap": {},
     "title": ""
    }
   },
   "outputs": [],
   "source": [
    "%run \"../includes/configuration\""
   ]
  },
  {
   "cell_type": "code",
   "execution_count": 0,
   "metadata": {
    "application/vnd.databricks.v1+cell": {
     "cellMetadata": {
      "byteLimit": 2048000,
      "rowLimit": 10000
     },
     "inputWidgets": {},
     "nuid": "122cf948-0c47-4725-b157-3043cbbaf551",
     "showTitle": false,
     "tableResultSettingsMap": {},
     "title": ""
    }
   },
   "outputs": [],
   "source": [
    "movie_df = spark.read.parquet(f\"{silver_folder_path}/movies\").filter(\"year_release_date = 2007\")"
   ]
  },
  {
   "cell_type": "code",
   "execution_count": 0,
   "metadata": {
    "application/vnd.databricks.v1+cell": {
     "cellMetadata": {
      "byteLimit": 2048000,
      "rowLimit": 10000
     },
     "inputWidgets": {},
     "nuid": "86484883-b8a8-4f4b-9c99-3311ca5220d2",
     "showTitle": false,
     "tableResultSettingsMap": {},
     "title": ""
    }
   },
   "outputs": [],
   "source": [
    "production_country_df = spark.read.parquet(f\"{silver_folder_path}/productions_countries\")"
   ]
  },
  {
   "cell_type": "code",
   "execution_count": 0,
   "metadata": {
    "application/vnd.databricks.v1+cell": {
     "cellMetadata": {
      "byteLimit": 2048000,
      "rowLimit": 10000
     },
     "inputWidgets": {},
     "nuid": "1eaad13b-ad5f-4efb-953e-7b49890f2605",
     "showTitle": false,
     "tableResultSettingsMap": {},
     "title": ""
    }
   },
   "outputs": [],
   "source": [
    "country_df = spark.read.parquet(f\"{silver_folder_path}/countries\")"
   ]
  },
  {
   "cell_type": "code",
   "execution_count": 0,
   "metadata": {
    "application/vnd.databricks.v1+cell": {
     "cellMetadata": {
      "byteLimit": 2048000,
      "rowLimit": 10000
     },
     "inputWidgets": {},
     "nuid": "903a90c1-5d93-4f9a-af35-26ab0d98559c",
     "showTitle": false,
     "tableResultSettingsMap": {},
     "title": ""
    }
   },
   "outputs": [],
   "source": [
    "display(movie_df)"
   ]
  },
  {
   "cell_type": "code",
   "execution_count": 0,
   "metadata": {
    "application/vnd.databricks.v1+cell": {
     "cellMetadata": {
      "byteLimit": 2048000,
      "rowLimit": 10000
     },
     "inputWidgets": {},
     "nuid": "3605b864-66fd-4e59-8a72-b10eceedc8c1",
     "showTitle": false,
     "tableResultSettingsMap": {},
     "title": ""
    }
   },
   "outputs": [],
   "source": [
    "display(production_country_df)\n",
    "display(country_df)"
   ]
  },
  {
   "cell_type": "code",
   "execution_count": 0,
   "metadata": {
    "application/vnd.databricks.v1+cell": {
     "cellMetadata": {
      "byteLimit": 2048000,
      "rowLimit": 10000
     },
     "inputWidgets": {},
     "nuid": "022863ca-ead8-4ea3-863a-74823f172342",
     "showTitle": false,
     "tableResultSettingsMap": {},
     "title": ""
    }
   },
   "outputs": [],
   "source": [
    "movie_production_country_df = movie_df.join(production_country_df, \n",
    "                                            movie_df.movie_id == production_country_df.movie_id,\n",
    "                                            \"inner\") \\\n",
    "                                        .select(movie_df.movie_id,\n",
    "                                                movie_df.title,\n",
    "                                                movie_df.budget,\n",
    "                                                production_country_df.country_id)"
   ]
  },
  {
   "cell_type": "code",
   "execution_count": 0,
   "metadata": {
    "application/vnd.databricks.v1+cell": {
     "cellMetadata": {
      "byteLimit": 2048000,
      "rowLimit": 10000
     },
     "inputWidgets": {},
     "nuid": "a0f8f665-c834-459c-b9d1-4a1554f6b26b",
     "showTitle": false,
     "tableResultSettingsMap": {},
     "title": ""
    }
   },
   "outputs": [],
   "source": [
    "movie_country_df = movie_production_country_df.join(country_df, \n",
    "                                                      movie_production_country_df.country_id == country_df.country_id,\n",
    "                                                      \"inner\") \\\n",
    "                                              .select(movie_production_country_df.movie_id,\n",
    "                                                      movie_production_country_df.title,\n",
    "                                                      movie_production_country_df.budget,\n",
    "                                                      country_df.country_id,\n",
    "                                                      country_df.country_name)"
   ]
  },
  {
   "cell_type": "code",
   "execution_count": 0,
   "metadata": {
    "application/vnd.databricks.v1+cell": {
     "cellMetadata": {
      "byteLimit": 2048000,
      "rowLimit": 10000
     },
     "inputWidgets": {},
     "nuid": "0cd443bd-8c05-4dc1-83c2-7afd716b8b30",
     "showTitle": false,
     "tableResultSettingsMap": {},
     "title": ""
    }
   },
   "outputs": [],
   "source": [
    "display(movie_country_df.select(\"*\"))"
   ]
  },
  {
   "cell_type": "markdown",
   "metadata": {
    "application/vnd.databricks.v1+cell": {
     "cellMetadata": {},
     "inputWidgets": {},
     "nuid": "4e647768-ed80-4024-a1d9-dcfa4d4eae11",
     "showTitle": false,
     "tableResultSettingsMap": {},
     "title": ""
    }
   },
   "source": [
    "###OUTER JOIN"
   ]
  },
  {
   "cell_type": "markdown",
   "metadata": {
    "application/vnd.databricks.v1+cell": {
     "cellMetadata": {},
     "inputWidgets": {},
     "nuid": "be72dc35-71df-403b-869e-d5335532e02d",
     "showTitle": false,
     "tableResultSettingsMap": {},
     "title": ""
    }
   },
   "source": [
    "#####Left Outer Join"
   ]
  },
  {
   "cell_type": "code",
   "execution_count": 0,
   "metadata": {
    "application/vnd.databricks.v1+cell": {
     "cellMetadata": {
      "byteLimit": 2048000,
      "rowLimit": 10000
     },
     "inputWidgets": {},
     "nuid": "28d9c2f6-5433-4137-9de0-e1db59bf3a88",
     "showTitle": false,
     "tableResultSettingsMap": {},
     "title": ""
    }
   },
   "outputs": [],
   "source": [
    "movie_production_country_df = movie_df.join(production_country_df, \n",
    "                                            movie_df.movie_id == production_country_df.movie_id,\n",
    "                                            \"left\") \\\n",
    "                                        .select(movie_df.movie_id,\n",
    "                                                movie_df.title,\n",
    "                                                movie_df.budget,                                                \n",
    "                                                production_country_df.country_id)"
   ]
  },
  {
   "cell_type": "code",
   "execution_count": 0,
   "metadata": {
    "application/vnd.databricks.v1+cell": {
     "cellMetadata": {
      "byteLimit": 2048000,
      "rowLimit": 10000
     },
     "inputWidgets": {},
     "nuid": "5844beb0-e093-4a10-8ee8-ffcedebe3104",
     "showTitle": false,
     "tableResultSettingsMap": {},
     "title": ""
    }
   },
   "outputs": [],
   "source": [
    "movie_country_df = movie_production_country_df.join(country_df, \n",
    "                                                      movie_production_country_df.country_id == country_df.country_id,\n",
    "                                                      \"left\") \\\n",
    "                                              .select(movie_production_country_df.movie_id,\n",
    "                                                      movie_production_country_df.title,\n",
    "                                                      movie_production_country_df.budget,\n",
    "                                                      movie_production_country_df.country_id,\n",
    "                                                      country_df.country_name)"
   ]
  },
  {
   "cell_type": "code",
   "execution_count": 0,
   "metadata": {
    "application/vnd.databricks.v1+cell": {
     "cellMetadata": {
      "byteLimit": 2048000,
      "rowLimit": 10000
     },
     "inputWidgets": {},
     "nuid": "7566920b-f388-4f44-848b-6a8f4b999485",
     "showTitle": false,
     "tableResultSettingsMap": {},
     "title": ""
    }
   },
   "outputs": [],
   "source": [
    "#Mostrando las 8 películas que no están asociadas a ningún país.\n",
    "display(movie_country_df.filter(\"country_id IS NULL\"))"
   ]
  },
  {
   "cell_type": "markdown",
   "metadata": {
    "application/vnd.databricks.v1+cell": {
     "cellMetadata": {},
     "inputWidgets": {},
     "nuid": "a1fa0748-f452-4653-b5a3-45ac9c06f282",
     "showTitle": false,
     "tableResultSettingsMap": {},
     "title": ""
    }
   },
   "source": [
    "#####Right Outer Join"
   ]
  },
  {
   "cell_type": "code",
   "execution_count": 0,
   "metadata": {
    "application/vnd.databricks.v1+cell": {
     "cellMetadata": {
      "byteLimit": 2048000,
      "rowLimit": 10000
     },
     "inputWidgets": {},
     "nuid": "8d9db502-ab01-4787-9131-1dc7184da3d2",
     "showTitle": false,
     "tableResultSettingsMap": {},
     "title": ""
    }
   },
   "outputs": [],
   "source": [
    "movie_production_country_df = movie_df.join(production_country_df, \n",
    "                                            movie_df.movie_id == production_country_df.movie_id,\n",
    "                                            \"right\") \\\n",
    "                                        .select(movie_df.movie_id,\n",
    "                                                movie_df.title,\n",
    "                                                movie_df.budget,                                                \n",
    "                                                production_country_df.country_id)"
   ]
  },
  {
   "cell_type": "code",
   "execution_count": 0,
   "metadata": {
    "application/vnd.databricks.v1+cell": {
     "cellMetadata": {
      "byteLimit": 2048000,
      "rowLimit": 10000
     },
     "inputWidgets": {},
     "nuid": "4648e885-4cea-42d1-9196-7daee8d55870",
     "showTitle": false,
     "tableResultSettingsMap": {},
     "title": ""
    }
   },
   "outputs": [],
   "source": [
    "movie_country_df = movie_production_country_df.join(country_df, \n",
    "                                                      movie_production_country_df.country_id == country_df.country_id,\n",
    "                                                      \"right\") \\\n",
    "                                              .select(movie_production_country_df.movie_id,\n",
    "                                                      movie_production_country_df.title,\n",
    "                                                      movie_production_country_df.budget,\n",
    "                                                      movie_production_country_df.country_id,\n",
    "                                                      country_df.country_name)"
   ]
  },
  {
   "cell_type": "code",
   "execution_count": 0,
   "metadata": {
    "application/vnd.databricks.v1+cell": {
     "cellMetadata": {
      "byteLimit": 2048000,
      "rowLimit": 10000
     },
     "inputWidgets": {},
     "nuid": "e6211cbb-ec55-4354-b04e-780ad33e6284",
     "showTitle": false,
     "tableResultSettingsMap": {},
     "title": ""
    }
   },
   "outputs": [],
   "source": [
    "#Mostrando los 86 países que no están asociados a ninguna película\n",
    "display(movie_country_df.filter(\"movie_id IS NULL\") \\\n",
    "                        .select(\"country_id\", \"country_name\") \\\n",
    "                        .distinct())"
   ]
  },
  {
   "cell_type": "markdown",
   "metadata": {
    "application/vnd.databricks.v1+cell": {
     "cellMetadata": {},
     "inputWidgets": {},
     "nuid": "34a22c80-3a9e-4753-bf19-0b9c321ce9cc",
     "showTitle": false,
     "tableResultSettingsMap": {},
     "title": ""
    }
   },
   "source": [
    "#### Full Outer Join"
   ]
  },
  {
   "cell_type": "code",
   "execution_count": 0,
   "metadata": {
    "application/vnd.databricks.v1+cell": {
     "cellMetadata": {
      "byteLimit": 2048000,
      "rowLimit": 10000
     },
     "inputWidgets": {},
     "nuid": "6d99d671-7991-464c-984a-c0e7b5f2563b",
     "showTitle": false,
     "tableResultSettingsMap": {},
     "title": ""
    }
   },
   "outputs": [],
   "source": [
    "movie_production_country_df = movie_df.join(production_country_df, \n",
    "                                            movie_df.movie_id == production_country_df.movie_id,\n",
    "                                            \"full\") \\\n",
    "                                        .select(movie_df.movie_id,\n",
    "                                                movie_df.title,\n",
    "                                                movie_df.budget,                                                \n",
    "                                                production_country_df.country_id)"
   ]
  },
  {
   "cell_type": "code",
   "execution_count": 0,
   "metadata": {
    "application/vnd.databricks.v1+cell": {
     "cellMetadata": {
      "byteLimit": 2048000,
      "rowLimit": 10000
     },
     "inputWidgets": {},
     "nuid": "b0610a4c-477f-4d16-9e86-f81d85d000a2",
     "showTitle": false,
     "tableResultSettingsMap": {},
     "title": ""
    }
   },
   "outputs": [],
   "source": [
    "movie_country_df = movie_production_country_df.join(country_df, \n",
    "                                                      movie_production_country_df.country_id == country_df.country_id,\n",
    "                                                      \"full\") \\\n",
    "                                              .select(movie_production_country_df.movie_id,\n",
    "                                                      movie_production_country_df.title,\n",
    "                                                      movie_production_country_df.budget,\n",
    "                                                      movie_production_country_df.country_id,\n",
    "                                                      country_df.country_name)"
   ]
  },
  {
   "cell_type": "code",
   "execution_count": 0,
   "metadata": {
    "application/vnd.databricks.v1+cell": {
     "cellMetadata": {
      "byteLimit": 2048000,
      "rowLimit": 10000
     },
     "inputWidgets": {},
     "nuid": "5ce6888e-fb6b-4387-be47-1da0ea257aaa",
     "showTitle": false,
     "tableResultSettingsMap": {},
     "title": ""
    }
   },
   "outputs": [],
   "source": [
    "#Aquí se muestran todas las películas y países independientemente de si hay una película asociada al país. \n",
    "display(movie_country_df.distinct())"
   ]
  },
  {
   "cell_type": "markdown",
   "metadata": {
    "application/vnd.databricks.v1+cell": {
     "cellMetadata": {},
     "inputWidgets": {},
     "nuid": "1832084b-3f57-4b77-9345-cd68d7b7f4a5",
     "showTitle": false,
     "tableResultSettingsMap": {},
     "title": ""
    }
   },
   "source": [
    "#### Semi Join - Retorna solamente las columnas del lado izquierdo que tienen correspondencia en el lado derecho, muy parecido a un EXISTS."
   ]
  },
  {
   "cell_type": "code",
   "execution_count": 0,
   "metadata": {
    "application/vnd.databricks.v1+cell": {
     "cellMetadata": {
      "byteLimit": 2048000,
      "rowLimit": 10000
     },
     "inputWidgets": {},
     "nuid": "50d690c6-f19a-4976-88f8-4a5ffb7f3e99",
     "showTitle": false,
     "tableResultSettingsMap": {},
     "title": ""
    }
   },
   "outputs": [],
   "source": [
    "movie_production_country_df = movie_df.join(production_country_df, \n",
    "                                            movie_df.movie_id == production_country_df.movie_id,\n",
    "                                            \"left\") \\\n",
    "                                        .select(movie_df.movie_id,\n",
    "                                                movie_df.title,\n",
    "                                                movie_df.budget,                                                \n",
    "                                                production_country_df.country_id)"
   ]
  },
  {
   "cell_type": "code",
   "execution_count": 0,
   "metadata": {
    "application/vnd.databricks.v1+cell": {
     "cellMetadata": {
      "byteLimit": 2048000,
      "rowLimit": 10000
     },
     "inputWidgets": {},
     "nuid": "abd27af7-2144-4332-aaeb-b3e021f55567",
     "showTitle": false,
     "tableResultSettingsMap": {},
     "title": ""
    }
   },
   "outputs": [],
   "source": [
    "movie_country_df = movie_production_country_df.join(country_df, \n",
    "                                                      movie_production_country_df.country_id == country_df.country_id,\n",
    "                                                      \"semi\") \\\n",
    "                                              .select(movie_production_country_df.movie_id,\n",
    "                                                      movie_production_country_df.title,\n",
    "                                                      movie_production_country_df.budget,\n",
    "                                                      movie_production_country_df.country_id)\n",
    "                                                      #country_df.country_name) ### Se deixar provoca erro"
   ]
  },
  {
   "cell_type": "code",
   "execution_count": 0,
   "metadata": {
    "application/vnd.databricks.v1+cell": {
     "cellMetadata": {
      "byteLimit": 2048000,
      "rowLimit": 10000
     },
     "inputWidgets": {},
     "nuid": "709d3e29-2f99-4d40-9889-90a0303976aa",
     "showTitle": false,
     "tableResultSettingsMap": {},
     "title": ""
    }
   },
   "outputs": [],
   "source": [
    "display(movie_country_df)"
   ]
  },
  {
   "cell_type": "markdown",
   "metadata": {
    "application/vnd.databricks.v1+cell": {
     "cellMetadata": {},
     "inputWidgets": {},
     "nuid": "46240453-ab2c-481a-8430-6bdb258123fc",
     "showTitle": false,
     "tableResultSettingsMap": {},
     "title": ""
    }
   },
   "source": [
    "#### Anti Join - Retorna solamente las columnas del lado izquierdo que no tienen correspondencia en el lado derecho, muy parecido a un NOT EXISTS."
   ]
  },
  {
   "cell_type": "code",
   "execution_count": 0,
   "metadata": {
    "application/vnd.databricks.v1+cell": {
     "cellMetadata": {
      "byteLimit": 2048000,
      "rowLimit": 10000
     },
     "inputWidgets": {},
     "nuid": "e8af22bf-f605-4fea-bf93-852783d49ad1",
     "showTitle": false,
     "tableResultSettingsMap": {},
     "title": ""
    }
   },
   "outputs": [],
   "source": [
    "movie_production_country_df = movie_df.join(production_country_df, \n",
    "                                            movie_df.movie_id == production_country_df.movie_id,\n",
    "                                            \"left\") \\\n",
    "                                        .select(movie_df.movie_id,\n",
    "                                                movie_df.title,\n",
    "                                                movie_df.budget,                                                \n",
    "                                                production_country_df.country_id)"
   ]
  },
  {
   "cell_type": "code",
   "execution_count": 0,
   "metadata": {
    "application/vnd.databricks.v1+cell": {
     "cellMetadata": {
      "byteLimit": 2048000,
      "rowLimit": 10000
     },
     "inputWidgets": {},
     "nuid": "39738086-20d8-4f86-b4ee-e76e5fda7862",
     "showTitle": false,
     "tableResultSettingsMap": {},
     "title": ""
    }
   },
   "outputs": [],
   "source": [
    "movie_country_df = movie_production_country_df.join(country_df, \n",
    "                                                      movie_production_country_df.country_id == country_df.country_id,\n",
    "                                                      \"anti\") \\\n",
    "                                              .select(movie_production_country_df.movie_id,\n",
    "                                                      movie_production_country_df.title,\n",
    "                                                      movie_production_country_df.budget,\n",
    "                                                      movie_production_country_df.country_id)\n",
    "                                                      #country_df.country_name) ### Se deixar provoca erro"
   ]
  },
  {
   "cell_type": "code",
   "execution_count": 0,
   "metadata": {
    "application/vnd.databricks.v1+cell": {
     "cellMetadata": {
      "byteLimit": 2048000,
      "rowLimit": 10000
     },
     "inputWidgets": {},
     "nuid": "2027a775-0fcc-46da-990d-0bf4b7bbeff2",
     "showTitle": false,
     "tableResultSettingsMap": {},
     "title": ""
    }
   },
   "outputs": [],
   "source": [
    "display(movie_country_df)"
   ]
  },
  {
   "cell_type": "code",
   "execution_count": 0,
   "metadata": {
    "application/vnd.databricks.v1+cell": {
     "cellMetadata": {},
     "inputWidgets": {},
     "nuid": "f66dfe3e-9fa1-43fe-9807-61c9ae539cea",
     "showTitle": false,
     "tableResultSettingsMap": {},
     "title": ""
    }
   },
   "outputs": [],
   "source": [
    "#### Cross Join - Genera un producto cartesiano de las dos tablas"
   ]
  },
  {
   "cell_type": "code",
   "execution_count": 0,
   "metadata": {
    "application/vnd.databricks.v1+cell": {
     "cellMetadata": {
      "byteLimit": 2048000,
      "rowLimit": 10000
     },
     "inputWidgets": {},
     "nuid": "bef418be-a32e-44a0-b642-95b4e064b581",
     "showTitle": false,
     "tableResultSettingsMap": {},
     "title": ""
    }
   },
   "outputs": [],
   "source": [
    "movie_country_df = movie_df.crossJoin(country_df)"
   ]
  },
  {
   "cell_type": "code",
   "execution_count": 0,
   "metadata": {
    "application/vnd.databricks.v1+cell": {
     "cellMetadata": {
      "byteLimit": 2048000,
      "rowLimit": 10000
     },
     "inputWidgets": {},
     "nuid": "181dd922-2f9b-4375-8e96-460761c67e35",
     "showTitle": false,
     "tableResultSettingsMap": {},
     "title": ""
    }
   },
   "outputs": [],
   "source": [
    "display(movie_country_df.count())\n",
    "display(movie_df.count())\n",
    "display(country_df.count())\n",
    "int(movie_df.count()) * int(country_df.count())"
   ]
  }
 ],
 "metadata": {
  "application/vnd.databricks.v1+notebook": {
   "computePreferences": null,
   "dashboards": [],
   "environmentMetadata": {
    "base_environment": "",
    "environment_version": "2"
   },
   "inputWidgetPreferences": null,
   "language": "python",
   "notebookMetadata": {
    "pythonIndentUnit": 4
   },
   "notebookName": "02.join_demo",
   "widgets": {}
  },
  "language_info": {
   "name": "python"
  }
 },
 "nbformat": 4,
 "nbformat_minor": 0
}
