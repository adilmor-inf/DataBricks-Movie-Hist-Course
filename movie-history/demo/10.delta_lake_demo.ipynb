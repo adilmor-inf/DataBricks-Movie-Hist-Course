{
 "cells": [
  {
   "cell_type": "markdown",
   "metadata": {
    "application/vnd.databricks.v1+cell": {
     "cellMetadata": {},
     "inputWidgets": {},
     "nuid": "f8c6c613-12a8-4ded-b796-97266a86b5aa",
     "showTitle": false,
     "tableResultSettingsMap": {},
     "title": ""
    }
   },
   "source": [
    "###Read & Write en Delta Lake\n",
    "1. Escribir datos en Delta Lake(Managed Table)\n",
    "2. Escribir datos en Delta Lake(External Table)\n",
    "3. Leer dados desde Delta Lake(Table)\n",
    "4. Leer dados desde Delta Lake(File)"
   ]
  },
  {
   "cell_type": "code",
   "execution_count": 0,
   "metadata": {
    "application/vnd.databricks.v1+cell": {
     "cellMetadata": {
      "byteLimit": 2048000,
      "implicitDf": true,
      "rowLimit": 10000
     },
     "inputWidgets": {},
     "nuid": "3394fab1-a4d8-4d10-b31f-923cfbe14217",
     "showTitle": false,
     "tableResultSettingsMap": {},
     "title": ""
    }
   },
   "outputs": [],
   "source": [
    "%sql\n",
    "--DROP SCHEMA movie_demo cascade\n",
    "CREATE SCHEMA IF NOT EXISTS movie_demo\n",
    "LOCATION '/mnt/moviehistoryadilmor/demo'"
   ]
  },
  {
   "cell_type": "code",
   "execution_count": 0,
   "metadata": {
    "application/vnd.databricks.v1+cell": {
     "cellMetadata": {
      "byteLimit": 2048000,
      "rowLimit": 10000
     },
     "inputWidgets": {},
     "nuid": "aaf97233-27ae-44a9-8281-c3014eb72a41",
     "showTitle": false,
     "tableResultSettingsMap": {},
     "title": ""
    }
   },
   "outputs": [],
   "source": [
    "from pyspark.sql.types import *"
   ]
  },
  {
   "cell_type": "code",
   "execution_count": 0,
   "metadata": {
    "application/vnd.databricks.v1+cell": {
     "cellMetadata": {
      "byteLimit": 2048000,
      "rowLimit": 10000
     },
     "inputWidgets": {},
     "nuid": "7c041cc3-9466-4e92-bc88-646c6b1ef7e9",
     "showTitle": false,
     "tableResultSettingsMap": {},
     "title": ""
    }
   },
   "outputs": [],
   "source": [
    "movie_schema = StructType(fields=[\n",
    "    StructField(\"movieId\", IntegerType(), False),\n",
    "    StructField(\"title\", StringType(), True),\n",
    "    StructField(\"budget\", DoubleType(), True),\n",
    "    StructField(\"homepage\", StringType(), True),    \n",
    "    StructField(\"overview\", StringType(), True),\n",
    "    StructField(\"popularity\", DoubleType(), True), \n",
    "    StructField(\"yearReleaseDate\", IntegerType(), True),  \n",
    "    StructField(\"releaseDate\", DateType(), True),\n",
    "    StructField(\"revenue\", DoubleType(), True),\n",
    "    StructField(\"durationTime\", IntegerType(), True),\n",
    "    StructField(\"movieStatus\", StringType(), True),\n",
    "    StructField(\"tagline\", StringType(), True),\n",
    "    StructField(\"voteAverage\", DoubleType(), True),\n",
    "    StructField(\"voteCount\", IntegerType(), True)\n",
    "])"
   ]
  },
  {
   "cell_type": "code",
   "execution_count": 0,
   "metadata": {
    "application/vnd.databricks.v1+cell": {
     "cellMetadata": {
      "byteLimit": 2048000,
      "implicitDf": true,
      "rowLimit": 10000
     },
     "inputWidgets": {},
     "nuid": "b4cb66d0-27e8-444b-8fbc-6a2186971eaf",
     "showTitle": false,
     "tableResultSettingsMap": {},
     "title": ""
    }
   },
   "outputs": [],
   "source": [
    "movie_df = spark.read \\\n",
    "  .option(\"header\", True) \\\n",
    "  .schema(movie_schema) \\\n",
    "  .csv(\"/mnt/moviehistoryadilmor/bronze/2024-12-30/movie.csv\")"
   ]
  },
  {
   "cell_type": "code",
   "execution_count": 0,
   "metadata": {
    "application/vnd.databricks.v1+cell": {
     "cellMetadata": {
      "byteLimit": 2048000,
      "rowLimit": 10000
     },
     "inputWidgets": {},
     "nuid": "3e8a515a-cc88-4857-bb2d-8a0aeaf605a0",
     "showTitle": false,
     "tableResultSettingsMap": {},
     "title": ""
    }
   },
   "outputs": [],
   "source": [
    "movie_df.write.format(\"delta\").mode(\"overwrite\").saveAsTable(\"movie_demo.movie_manager\")"
   ]
  },
  {
   "cell_type": "code",
   "execution_count": 0,
   "metadata": {
    "application/vnd.databricks.v1+cell": {
     "cellMetadata": {
      "byteLimit": 2048000,
      "implicitDf": true,
      "rowLimit": 10000
     },
     "inputWidgets": {},
     "nuid": "c7b73d3c-78d5-40bc-9a9f-936390765ec0",
     "showTitle": false,
     "tableResultSettingsMap": {},
     "title": ""
    }
   },
   "outputs": [],
   "source": [
    "%sql\n",
    "SELECT * FROM movie_demo.movie_manager\n",
    "--drop table movie_demo.movie_manager"
   ]
  },
  {
   "cell_type": "code",
   "execution_count": 0,
   "metadata": {
    "application/vnd.databricks.v1+cell": {
     "cellMetadata": {
      "byteLimit": 2048000,
      "rowLimit": 10000
     },
     "inputWidgets": {},
     "nuid": "c134317c-ac08-48b8-bcad-f3f9577e7265",
     "showTitle": false,
     "tableResultSettingsMap": {},
     "title": ""
    }
   },
   "outputs": [],
   "source": [
    "movie_df.write.format(\"delta\").mode(\"overwrite\").save(\"/mnt/moviehistoryadilmor/demo/movies_enternal\")"
   ]
  },
  {
   "cell_type": "code",
   "execution_count": 0,
   "metadata": {
    "application/vnd.databricks.v1+cell": {
     "cellMetadata": {
      "byteLimit": 2048000,
      "implicitDf": true,
      "rowLimit": 10000
     },
     "inputWidgets": {},
     "nuid": "684d6664-dca0-4e82-bd53-a381f6c7cfed",
     "showTitle": false,
     "tableResultSettingsMap": {},
     "title": ""
    }
   },
   "outputs": [],
   "source": [
    "%sql\n",
    "CREATE TABLE movie_demo.movies_external\n",
    "USING DELTA\n",
    "LOCATION \"/mnt/moviehistoryadilmor/demo/movies_enternal\""
   ]
  },
  {
   "cell_type": "code",
   "execution_count": 0,
   "metadata": {
    "application/vnd.databricks.v1+cell": {
     "cellMetadata": {
      "byteLimit": 2048000,
      "implicitDf": true,
      "rowLimit": 10000
     },
     "inputWidgets": {},
     "nuid": "5a09c8a6-d7b0-4084-9adf-7614a671101f",
     "showTitle": false,
     "tableResultSettingsMap": {},
     "title": ""
    }
   },
   "outputs": [],
   "source": [
    "%sql\n",
    "--ALTER TABLE movie_demo.movies_external SET TBLPROPERTIES (\n",
    "--   'delta.columnMapping.mode' = 'name',\n",
    "--   'delta.minReaderVersion' = '2',\n",
    "--   'delta.minWriterVersion' = '5');\n",
    "ALTER TABLE movie_demo.movies_external DROP COLUMN movieStatus;"
   ]
  },
  {
   "cell_type": "code",
   "execution_count": 0,
   "metadata": {
    "application/vnd.databricks.v1+cell": {
     "cellMetadata": {
      "byteLimit": 2048000,
      "implicitDf": true,
      "rowLimit": 10000
     },
     "inputWidgets": {},
     "nuid": "cd682912-e597-4f44-899e-6d7a482c59b9",
     "showTitle": false,
     "tableResultSettingsMap": {},
     "title": ""
    }
   },
   "outputs": [],
   "source": [
    "%sql\n",
    "DROP TABLE movie_demo.movies_external"
   ]
  },
  {
   "cell_type": "code",
   "execution_count": 0,
   "metadata": {
    "application/vnd.databricks.v1+cell": {
     "cellMetadata": {
      "byteLimit": 2048000,
      "implicitDf": true,
      "rowLimit": 10000
     },
     "inputWidgets": {},
     "nuid": "2a8ad07d-4c74-4e08-b850-46d982759686",
     "showTitle": false,
     "tableResultSettingsMap": {},
     "title": ""
    }
   },
   "outputs": [],
   "source": [
    "%sql\n",
    "--SELECT * FROM movie_demo.movies_external\n",
    "DESC EXTENDED movie_demo.movies_external"
   ]
  },
  {
   "cell_type": "code",
   "execution_count": 0,
   "metadata": {
    "application/vnd.databricks.v1+cell": {
     "cellMetadata": {
      "byteLimit": 2048000,
      "rowLimit": 10000
     },
     "inputWidgets": {},
     "nuid": "4816a896-d5eb-4ada-8ace-547c86418d19",
     "showTitle": false,
     "tableResultSettingsMap": {},
     "title": ""
    }
   },
   "outputs": [],
   "source": [
    "movies_external_df = spark.read.format(\"delta\").load(\"/mnt/moviehistoryadilmor/demo/movies_enternal\")"
   ]
  },
  {
   "cell_type": "code",
   "execution_count": 0,
   "metadata": {
    "application/vnd.databricks.v1+cell": {
     "cellMetadata": {
      "byteLimit": 2048000,
      "rowLimit": 10000
     },
     "inputWidgets": {},
     "nuid": "067b7f12-e622-44e8-a560-443ce1adc454",
     "showTitle": false,
     "tableResultSettingsMap": {},
     "title": ""
    }
   },
   "outputs": [],
   "source": [
    "movie_df.write.format(\"delta\").mode(\"overwrite\").partitionBy(\"yearReleaseDate\").saveAsTable(\"movie_demo.movies_partitioned\")"
   ]
  },
  {
   "cell_type": "code",
   "execution_count": 0,
   "metadata": {
    "application/vnd.databricks.v1+cell": {
     "cellMetadata": {
      "byteLimit": 2048000,
      "implicitDf": true,
      "rowLimit": 10000
     },
     "inputWidgets": {},
     "nuid": "c2f6c3a7-5343-428f-9543-34b2656933c5",
     "showTitle": false,
     "tableResultSettingsMap": {},
     "title": ""
    }
   },
   "outputs": [],
   "source": [
    "%sql\n",
    "--DESCRIBE EXTENDED movie_demo.movies_partitioned\n",
    "SHOW PARTITIONS movie_demo.movies_partitioned"
   ]
  },
  {
   "cell_type": "markdown",
   "metadata": {
    "application/vnd.databricks.v1+cell": {
     "cellMetadata": {},
     "inputWidgets": {},
     "nuid": "c20ce948-aaab-405e-8f51-3cd658ce2283",
     "showTitle": false,
     "tableResultSettingsMap": {},
     "title": ""
    }
   },
   "source": [
    "###Update & Delete en Delta Lake\n",
    "1. Update desde Delta Lake\n",
    "2. Delete desde Delta Lake"
   ]
  },
  {
   "cell_type": "code",
   "execution_count": 0,
   "metadata": {
    "application/vnd.databricks.v1+cell": {
     "cellMetadata": {
      "byteLimit": 2048000,
      "implicitDf": true,
      "rowLimit": 10000
     },
     "inputWidgets": {},
     "nuid": "362da2a7-fb31-4e00-b409-be666ced23df",
     "showTitle": false,
     "tableResultSettingsMap": {},
     "title": ""
    }
   },
   "outputs": [],
   "source": [
    "%sql\n",
    "UPDATE movie_demo.movie_manager\n",
    "  SET durationTime = 60\n",
    "WHERE yearReleaseDate = 2012;"
   ]
  },
  {
   "cell_type": "code",
   "execution_count": 0,
   "metadata": {
    "application/vnd.databricks.v1+cell": {
     "cellMetadata": {
      "byteLimit": 2048000,
      "implicitDf": true,
      "rowLimit": 10000
     },
     "inputWidgets": {},
     "nuid": "b154f6d8-bb09-4969-bffa-68a4593d76f5",
     "showTitle": false,
     "tableResultSettingsMap": {},
     "title": ""
    }
   },
   "outputs": [],
   "source": [
    "%sql\n",
    "SELECT * FROM movie_demo.movie_manager\n",
    "WHERE yearReleaseDate = 2012"
   ]
  },
  {
   "cell_type": "code",
   "execution_count": 0,
   "metadata": {
    "application/vnd.databricks.v1+cell": {
     "cellMetadata": {
      "byteLimit": 2048000,
      "rowLimit": 10000
     },
     "inputWidgets": {},
     "nuid": "873d2199-d685-46ab-a6a5-c32f26e45cd8",
     "showTitle": false,
     "tableResultSettingsMap": {},
     "title": ""
    }
   },
   "outputs": [],
   "source": [
    "%python\n",
    "#from delta.tables import *\n",
    "\n",
    "# Check if the table is a Delta table\n",
    "#if not DeltaTable.isDeltaTable(spark, '/mnt/moviehistoryadilmor/demo/movies_managed'):\n",
    "#    # Convert the Parquet table to a Delta table\n",
    "#    df = spark.read.parquet('/mnt/moviehistoryadilmor/demo/movies_managed')\n",
    "#    df.write.format(\"delta\").mode(\"overwrite\").save('/mnt/moviehistoryadilmor/demo/movies_managed')\n",
    "\n",
    "# Load the Delta table\n",
    "deltaTable = DeltaTable.forPath(spark, '/mnt/moviehistoryadilmor/demo/movie_manager')\n",
    "\n",
    "# Update the records\n",
    "deltaTable.update(\n",
    "    condition=\"yearReleaseDate = 2013\",\n",
    "    set={\"durationTime\": \"100\"}\n",
    ")"
   ]
  },
  {
   "cell_type": "code",
   "execution_count": 0,
   "metadata": {
    "application/vnd.databricks.v1+cell": {
     "cellMetadata": {
      "byteLimit": 2048000,
      "implicitDf": true,
      "rowLimit": 10000
     },
     "inputWidgets": {},
     "nuid": "f0ba2c1e-b8e8-4736-976f-5e6f675aad47",
     "showTitle": false,
     "tableResultSettingsMap": {},
     "title": ""
    }
   },
   "outputs": [],
   "source": [
    "%sql\n",
    "SELECT * FROM movie_demo.movie_manager\n",
    "WHERE yearReleaseDate = 2013"
   ]
  },
  {
   "cell_type": "code",
   "execution_count": 0,
   "metadata": {
    "application/vnd.databricks.v1+cell": {
     "cellMetadata": {
      "byteLimit": 2048000,
      "implicitDf": true,
      "rowLimit": 10000
     },
     "inputWidgets": {},
     "nuid": "9d52760d-d2ac-408f-a62b-3e40cb45642b",
     "showTitle": false,
     "tableResultSettingsMap": {},
     "title": ""
    }
   },
   "outputs": [],
   "source": [
    "%sql\n",
    "DELETE FROM movie_demo.movie_manager\n",
    "WHERE yearReleaseDate = 2014;"
   ]
  },
  {
   "cell_type": "code",
   "execution_count": 0,
   "metadata": {
    "application/vnd.databricks.v1+cell": {
     "cellMetadata": {
      "byteLimit": 2048000,
      "rowLimit": 10000
     },
     "inputWidgets": {},
     "nuid": "352f485b-5fd6-4748-8306-5211161208bd",
     "showTitle": false,
     "tableResultSettingsMap": {},
     "title": ""
    }
   },
   "outputs": [],
   "source": [
    "from delta.tables import *\n",
    "\n",
    "deltaTable = DeltaTable.forPath(spark, '/mnt/moviehistoryadilmor/demo/movie_manager')\n",
    "\n",
    "# Delete the records\n",
    "deltaTable.delete(\"yearReleaseDate = 2015\")"
   ]
  },
  {
   "cell_type": "code",
   "execution_count": 0,
   "metadata": {
    "application/vnd.databricks.v1+cell": {
     "cellMetadata": {
      "byteLimit": 2048000,
      "implicitDf": true,
      "rowLimit": 10000
     },
     "inputWidgets": {},
     "nuid": "e8135f16-2a46-4ee7-b0e3-9e63ebf46a21",
     "showTitle": false,
     "tableResultSettingsMap": {},
     "title": ""
    }
   },
   "outputs": [],
   "source": [
    "%sql\n",
    "SELECT * FROM movie_demo.movie_manager\n",
    "WHERE yearReleaseDate = 2015;"
   ]
  },
  {
   "cell_type": "markdown",
   "metadata": {
    "application/vnd.databricks.v1+cell": {
     "cellMetadata": {},
     "inputWidgets": {},
     "nuid": "a4d7d7ad-f72a-46d3-99d0-3e5324a7599a",
     "showTitle": false,
     "tableResultSettingsMap": {},
     "title": ""
    }
   },
   "source": [
    "###Merge / UpSert en Delta Lake"
   ]
  },
  {
   "cell_type": "code",
   "execution_count": 0,
   "metadata": {
    "application/vnd.databricks.v1+cell": {
     "cellMetadata": {
      "byteLimit": 2048000,
      "rowLimit": 10000
     },
     "inputWidgets": {},
     "nuid": "bf87fc43-00a7-4841-9670-13ac6ca8e7a8",
     "showTitle": false,
     "tableResultSettingsMap": {},
     "title": ""
    }
   },
   "outputs": [],
   "source": [
    "from pyspark.sql.types import *"
   ]
  },
  {
   "cell_type": "code",
   "execution_count": 0,
   "metadata": {
    "application/vnd.databricks.v1+cell": {
     "cellMetadata": {
      "byteLimit": 2048000,
      "rowLimit": 10000
     },
     "inputWidgets": {},
     "nuid": "95cd9e20-576e-418b-878e-3ef7350a9c01",
     "showTitle": false,
     "tableResultSettingsMap": {},
     "title": ""
    }
   },
   "outputs": [],
   "source": [
    "movie_schema = StructType(fields=[\n",
    "    StructField(\"movieId\", IntegerType(), False),\n",
    "    StructField(\"title\", StringType(), True),\n",
    "    StructField(\"budget\", DoubleType(), True),\n",
    "    StructField(\"homepage\", StringType(), True),    \n",
    "    StructField(\"overview\", StringType(), True),\n",
    "    StructField(\"popularity\", DoubleType(), True), \n",
    "    StructField(\"yearReleaseDate\", IntegerType(), True),  \n",
    "    StructField(\"releaseDate\", DateType(), True),\n",
    "    StructField(\"revenue\", DoubleType(), True),\n",
    "    StructField(\"durationTime\", IntegerType(), True),\n",
    "    StructField(\"movieStatus\", StringType(), True),\n",
    "    StructField(\"tagline\", StringType(), True),\n",
    "    StructField(\"voteAverage\", DoubleType(), True),\n",
    "    StructField(\"voteCount\", IntegerType(), True)\n",
    "])"
   ]
  },
  {
   "cell_type": "code",
   "execution_count": 0,
   "metadata": {
    "application/vnd.databricks.v1+cell": {
     "cellMetadata": {
      "byteLimit": 2048000,
      "rowLimit": 10000
     },
     "inputWidgets": {},
     "nuid": "ceac1568-f516-46ee-91d2-9581b10426b0",
     "showTitle": false,
     "tableResultSettingsMap": {},
     "title": ""
    }
   },
   "outputs": [],
   "source": [
    "movie_day1_df = spark.read \\\n",
    "  .option(\"header\", True) \\\n",
    "  .schema(movie_schema) \\\n",
    "  .csv(\"/mnt/moviehistoryadilmor/bronze/2024-12-30/movie.csv\") \\\n",
    "  .filter(\"yearReleaseDate < 2000\") \\\n",
    "  .select(\"movieId\", \"title\", \"yearReleaseDate\", \"releaseDate\",\"durationTime\")"
   ]
  },
  {
   "cell_type": "code",
   "execution_count": 0,
   "metadata": {
    "application/vnd.databricks.v1+cell": {
     "cellMetadata": {
      "byteLimit": 2048000,
      "rowLimit": 10000
     },
     "inputWidgets": {},
     "nuid": "a52af4ae-380a-4323-85ed-06366ad9f5ff",
     "showTitle": false,
     "tableResultSettingsMap": {},
     "title": ""
    }
   },
   "outputs": [],
   "source": [
    "movie_day1_df.createOrReplaceTempView(\"movie_day1\")"
   ]
  },
  {
   "cell_type": "code",
   "execution_count": 0,
   "metadata": {
    "application/vnd.databricks.v1+cell": {
     "cellMetadata": {
      "byteLimit": 2048000,
      "rowLimit": 10000
     },
     "inputWidgets": {},
     "nuid": "6badcf0e-40a6-4097-a843-872806d1b445",
     "showTitle": false,
     "tableResultSettingsMap": {},
     "title": ""
    }
   },
   "outputs": [],
   "source": [
    "from pyspark.sql.functions import upper\n",
    "\n",
    "movie_day2_df = spark.read \\\n",
    "  .option(\"header\", True) \\\n",
    "  .schema(movie_schema) \\\n",
    "  .csv(\"/mnt/moviehistoryadilmor/bronze/2024-12-30/movie.csv\") \\\n",
    "  .filter(\"yearReleaseDate BETWEEN 1998 AND 2005\") \\\n",
    "  .select(\"movieId\" \\\n",
    "          , upper(\"title\").alias(\"title\") \\\n",
    "          , \"yearReleaseDate\" \\\n",
    "          , \"releaseDate\" \\\n",
    "          ,\"durationTime\")"
   ]
  },
  {
   "cell_type": "code",
   "execution_count": 0,
   "metadata": {
    "application/vnd.databricks.v1+cell": {
     "cellMetadata": {
      "byteLimit": 2048000,
      "rowLimit": 10000
     },
     "inputWidgets": {},
     "nuid": "e64e9168-fae5-4c09-aa86-b00a93ae8486",
     "showTitle": false,
     "tableResultSettingsMap": {},
     "title": ""
    }
   },
   "outputs": [],
   "source": [
    "movie_day2_df.createOrReplaceTempView(\"movie_day2\")"
   ]
  },
  {
   "cell_type": "code",
   "execution_count": 0,
   "metadata": {
    "application/vnd.databricks.v1+cell": {
     "cellMetadata": {
      "byteLimit": 2048000,
      "rowLimit": 10000
     },
     "inputWidgets": {},
     "nuid": "6004b7fe-e7a8-43ed-9921-f727b2f0206a",
     "showTitle": false,
     "tableResultSettingsMap": {},
     "title": ""
    }
   },
   "outputs": [],
   "source": [
    "# Gera o DF3\n",
    "movie_day3_df = spark.read \\\n",
    "  .option(\"header\", True) \\\n",
    "  .schema(movie_schema) \\\n",
    "  .csv(\"/mnt/moviehistoryadilmor/bronze/2024-12-30/movie.csv\") \\\n",
    "  .filter(\"(yearReleaseDate BETWEEN 1983 AND 1998 ) OR (yearReleaseDate BETWEEN 2006 AND 2010)\" ) \\\n",
    "  .select(\"movieId\" \\\n",
    "          , upper(\"title\").alias(\"title\") \\\n",
    "          , \"yearReleaseDate\" \\\n",
    "          , \"releaseDate\" \\\n",
    "          ,\"durationTime\")"
   ]
  },
  {
   "cell_type": "code",
   "execution_count": 0,
   "metadata": {
    "application/vnd.databricks.v1+cell": {
     "cellMetadata": {
      "byteLimit": 2048000,
      "rowLimit": 10000
     },
     "inputWidgets": {},
     "nuid": "0be18796-ffa0-4ceb-9e30-369296ae854c",
     "showTitle": false,
     "tableResultSettingsMap": {},
     "title": ""
    }
   },
   "outputs": [],
   "source": [
    "#movie_day3_df.createOrReplaceTempView(\"movie_day3)\"\n",
    "spark.catalog.dropTempView(\"movie_day3\");"
   ]
  },
  {
   "cell_type": "code",
   "execution_count": 0,
   "metadata": {
    "application/vnd.databricks.v1+cell": {
     "cellMetadata": {
      "byteLimit": 2048000,
      "implicitDf": true,
      "rowLimit": 10000
     },
     "inputWidgets": {},
     "nuid": "169929e1-ec02-4a65-b173-f991e11b5ab6",
     "showTitle": false,
     "tableResultSettingsMap": {},
     "title": ""
    }
   },
   "outputs": [],
   "source": [
    "%sql\n",
    "CREATE TABLE IF NOT EXISTS movie_demo.movie_merge(\n",
    "  movieId INT,\n",
    "  title STRING,\n",
    "  yearReleaseDate INT,\n",
    "  releaseDate DATE,\n",
    "  durationTime INT,\n",
    "  createdDate DATE,\n",
    "  updatedDate DATE\n",
    ")\n",
    "USING DELTA"
   ]
  },
  {
   "cell_type": "markdown",
   "metadata": {
    "application/vnd.databricks.v1+cell": {
     "cellMetadata": {},
     "inputWidgets": {},
     "nuid": "177f07a7-0bb0-42dc-b17a-6e4813199717",
     "showTitle": false,
     "tableResultSettingsMap": {},
     "title": ""
    }
   },
   "source": [
    "#### Day 1"
   ]
  },
  {
   "cell_type": "code",
   "execution_count": 0,
   "metadata": {
    "application/vnd.databricks.v1+cell": {
     "cellMetadata": {
      "byteLimit": 2048000,
      "implicitDf": true,
      "rowLimit": 10000
     },
     "inputWidgets": {},
     "nuid": "711eaef1-fe1a-436d-976a-099e55506507",
     "showTitle": false,
     "tableResultSettingsMap": {},
     "title": ""
    }
   },
   "outputs": [],
   "source": [
    "%sql\n",
    "MERGE INTO movie_demo.movie_merge AS tgt\n",
    "USING movie_day1 AS src\n",
    "ON tgt.movieId = src.movieId\n",
    "WHEN MATCHED THEN\n",
    "  UPDATE SET\n",
    "    tgt.title = src.title,\n",
    "    tgt.yearReleaseDate = src.yearReleaseDate,\n",
    "    tgt.releaseDate = src.releaseDate,\n",
    "    tgt.durationTime = src.durationTime,\n",
    "    tgt.updatedDate = current_date()\n",
    "WHEN NOT MATCHED THEN\n",
    "  INSERT (movieId, title, yearReleaseDate, releaseDate, durationTime, createdDate)\n",
    "  VALUES (src.movieId, \n",
    "          src.title, \n",
    "          src.yearReleaseDate, \n",
    "          src.releaseDate, \n",
    "          src.durationTime, \n",
    "          current_date()\n",
    "          )"
   ]
  },
  {
   "cell_type": "code",
   "execution_count": 0,
   "metadata": {
    "application/vnd.databricks.v1+cell": {
     "cellMetadata": {
      "byteLimit": 2048000,
      "implicitDf": true,
      "rowLimit": 10000
     },
     "inputWidgets": {},
     "nuid": "dbe418a4-83a7-49e7-ab01-ab250eef632c",
     "showTitle": false,
     "tableResultSettingsMap": {},
     "title": ""
    }
   },
   "outputs": [],
   "source": [
    "%sql\n",
    "SELECT * FROM movie_demo.movie_merge"
   ]
  },
  {
   "cell_type": "markdown",
   "metadata": {
    "application/vnd.databricks.v1+cell": {
     "cellMetadata": {},
     "inputWidgets": {},
     "nuid": "6d65957f-ac3b-4dce-881a-68c88101408e",
     "showTitle": false,
     "tableResultSettingsMap": {},
     "title": ""
    }
   },
   "source": [
    "#### Day2"
   ]
  },
  {
   "cell_type": "code",
   "execution_count": 0,
   "metadata": {
    "application/vnd.databricks.v1+cell": {
     "cellMetadata": {
      "byteLimit": 2048000,
      "implicitDf": true,
      "rowLimit": 10000
     },
     "inputWidgets": {},
     "nuid": "44f1bf00-1b65-4179-ac87-953c03ba60c8",
     "showTitle": false,
     "tableResultSettingsMap": {},
     "title": ""
    }
   },
   "outputs": [],
   "source": [
    "%sql\n",
    "MERGE INTO movie_demo.movie_merge AS tgt\n",
    "USING movie_day2 AS src\n",
    "ON tgt.movieId = src.movieId\n",
    "WHEN MATCHED THEN\n",
    "  UPDATE SET\n",
    "    tgt.title = src.title,\n",
    "    tgt.yearReleaseDate = src.yearReleaseDate,\n",
    "    tgt.releaseDate = src.releaseDate,\n",
    "    tgt.durationTime = src.durationTime,\n",
    "    tgt.updatedDate = current_date()\n",
    "WHEN NOT MATCHED THEN\n",
    "  INSERT (movieId, title, yearReleaseDate, releaseDate, durationTime, createdDate)\n",
    "  VALUES (src.movieId, \n",
    "          src.title, \n",
    "          src.yearReleaseDate, \n",
    "          src.releaseDate, \n",
    "          src.durationTime, \n",
    "          current_date()\n",
    "          )"
   ]
  },
  {
   "cell_type": "code",
   "execution_count": 0,
   "metadata": {
    "application/vnd.databricks.v1+cell": {
     "cellMetadata": {
      "byteLimit": 2048000,
      "implicitDf": true,
      "rowLimit": 10000
     },
     "inputWidgets": {},
     "nuid": "22c3803d-2406-4dc7-9fe4-533f34a91bb7",
     "showTitle": false,
     "tableResultSettingsMap": {},
     "title": ""
    }
   },
   "outputs": [],
   "source": [
    "%sql\n",
    "SELECT * FROM movie_demo.movie_merge"
   ]
  },
  {
   "cell_type": "markdown",
   "metadata": {
    "application/vnd.databricks.v1+cell": {
     "cellMetadata": {},
     "inputWidgets": {},
     "nuid": "58d244a9-c9f1-4a2b-8363-95191a501d93",
     "showTitle": false,
     "tableResultSettingsMap": {},
     "title": ""
    }
   },
   "source": [
    "#### Day3 com PySpark"
   ]
  },
  {
   "cell_type": "code",
   "execution_count": 0,
   "metadata": {
    "application/vnd.databricks.v1+cell": {
     "cellMetadata": {
      "byteLimit": 2048000,
      "rowLimit": 10000
     },
     "inputWidgets": {},
     "nuid": "d145b98f-c539-4ecb-9d8b-cfbc77c79483",
     "showTitle": false,
     "tableResultSettingsMap": {},
     "title": ""
    }
   },
   "outputs": [],
   "source": [
    "from delta.tables import DeltaTable\n",
    "from pyspark.sql.functions import current_date\n",
    "\n",
    "# Carrega a tabela Delta de destino\n",
    "#delta_target = DeltaTable.forName(spark, \"movie_demo.movie_merge\")\n",
    "delta_target = DeltaTable.forPath(spark, \"/mnt/moviehistoryadilmor/demo/movie_merge\")\n",
    "\n",
    "# DataFrame de origem\n",
    "#source_df = spark.table(\"movie_day3\")\n",
    "source_df = movie_day3_df\n",
    "\n",
    "# Executa o MERGE\n",
    "delta_target.alias(\"tgt\").merge(\n",
    "    source_df.alias(\"src\"),\n",
    "    \"tgt.movieId = src.movieId\"\n",
    ").whenMatchedUpdate(set={\n",
    "    \"title\": \"src.title\",\n",
    "    \"yearReleaseDate\": \"src.yearReleaseDate\",\n",
    "    \"releaseDate\": \"src.releaseDate\",\n",
    "    \"durationTime\": \"src.durationTime\",\n",
    "    \"updatedDate\": \"current_date()\"\n",
    "}).whenNotMatchedInsert(values={\n",
    "    \"movieId\": \"src.movieId\",\n",
    "    \"title\": \"src.title\",\n",
    "    \"yearReleaseDate\": \"src.yearReleaseDate\",\n",
    "    \"releaseDate\": \"src.releaseDate\",\n",
    "    \"durationTime\": \"src.durationTime\",\n",
    "    \"createdDate\": \"current_date()\"\n",
    "}).execute()\n"
   ]
  },
  {
   "cell_type": "code",
   "execution_count": 0,
   "metadata": {
    "application/vnd.databricks.v1+cell": {
     "cellMetadata": {
      "byteLimit": 2048000,
      "implicitDf": true,
      "rowLimit": 10000
     },
     "inputWidgets": {},
     "nuid": "d8624380-0723-44c9-bf65-d89668b90f86",
     "showTitle": false,
     "tableResultSettingsMap": {},
     "title": ""
    }
   },
   "outputs": [],
   "source": [
    "%sql\n",
    "SELECT * FROM movie_demo.movie_merge"
   ]
  },
  {
   "cell_type": "markdown",
   "metadata": {
    "application/vnd.databricks.v1+cell": {
     "cellMetadata": {},
     "inputWidgets": {},
     "nuid": "484b7a0f-37cd-4e03-b74c-dbfa15d20e21",
     "showTitle": false,
     "tableResultSettingsMap": {},
     "title": ""
    }
   },
   "source": [
    "### History, Time Travel y Vacuum\n",
    "\n",
    "1. Historia y control de versiones\n",
    "2. Viaje en el Tiempo\n",
    "3. Vacio"
   ]
  },
  {
   "cell_type": "code",
   "execution_count": 0,
   "metadata": {
    "application/vnd.databricks.v1+cell": {
     "cellMetadata": {
      "byteLimit": 2048000,
      "implicitDf": true,
      "rowLimit": 10000
     },
     "inputWidgets": {},
     "nuid": "49e8791f-3ddf-49ad-801c-85a080e7ef3e",
     "showTitle": false,
     "tableResultSettingsMap": {},
     "title": ""
    }
   },
   "outputs": [],
   "source": [
    "%sql\n",
    "DESC HISTORY movie_demo.movie_merge"
   ]
  },
  {
   "cell_type": "code",
   "execution_count": 0,
   "metadata": {
    "application/vnd.databricks.v1+cell": {
     "cellMetadata": {
      "byteLimit": 2048000,
      "implicitDf": true,
      "rowLimit": 10000
     },
     "inputWidgets": {},
     "nuid": "ff6dd2a1-6192-47a8-8af0-9b8fd4317717",
     "showTitle": false,
     "tableResultSettingsMap": {},
     "title": ""
    }
   },
   "outputs": [],
   "source": [
    "%sql\n",
    "-- Verificando o conteúdo da tabela após a 1ª inserção de registros\n",
    "SELECT * FROM movie_demo.movie_merge VERSION AS OF 1;"
   ]
  },
  {
   "cell_type": "code",
   "execution_count": 0,
   "metadata": {
    "application/vnd.databricks.v1+cell": {
     "cellMetadata": {
      "byteLimit": 2048000,
      "implicitDf": true,
      "rowLimit": 10000
     },
     "inputWidgets": {},
     "nuid": "78e83989-e8bc-4bb0-895d-e1915b78008b",
     "showTitle": false,
     "tableResultSettingsMap": {},
     "title": ""
    }
   },
   "outputs": [],
   "source": [
    "%sql\n",
    "-- Verificando o conteúdo da tabela em um momento específico do tempo, neste caso versão 1\n",
    "SELECT * FROM movie_demo.movie_merge TIMESTAMP AS OF '2025-05-11T15:26:26.000+00:00';"
   ]
  },
  {
   "cell_type": "code",
   "execution_count": 0,
   "metadata": {
    "application/vnd.databricks.v1+cell": {
     "cellMetadata": {
      "byteLimit": 2048000,
      "rowLimit": 10000
     },
     "inputWidgets": {},
     "nuid": "8c50468c-9066-403c-bf4b-a7c4d45c8539",
     "showTitle": false,
     "tableResultSettingsMap": {},
     "title": ""
    }
   },
   "outputs": [],
   "source": [
    "#Gerando um dataframe com os dados equivalente a versão 1\n",
    "df = spark.read.format(\"delta\").option(\"timestampAsOf\", \"2025-05-11T15:26:26.000+00:00\").load(\"/mnt/moviehistoryadilmor/demo/movie_merge\")"
   ]
  },
  {
   "cell_type": "code",
   "execution_count": 0,
   "metadata": {
    "application/vnd.databricks.v1+cell": {
     "cellMetadata": {
      "byteLimit": 2048000,
      "rowLimit": 10000
     },
     "inputWidgets": {},
     "nuid": "49dd2e03-7b2a-470c-b71f-702fac1bcece",
     "showTitle": false,
     "tableResultSettingsMap": {},
     "title": ""
    }
   },
   "outputs": [],
   "source": [
    "df.display()"
   ]
  },
  {
   "cell_type": "code",
   "execution_count": 0,
   "metadata": {
    "application/vnd.databricks.v1+cell": {
     "cellMetadata": {
      "byteLimit": 2048000,
      "implicitDf": true,
      "rowLimit": 10000
     },
     "inputWidgets": {},
     "nuid": "21ee8279-a0cc-4b67-b794-fae68de3c7fd",
     "showTitle": false,
     "tableResultSettingsMap": {},
     "title": ""
    }
   },
   "outputs": [],
   "source": [
    "%sql\n",
    "-- Eliminando permamentemente os registros de uma tabela\n",
    "--VACUUM movie_demo.movie_merge -- Somente este comando retem os dados por default 7 dias\n",
    "--\n",
    "-- Setando esta opção e executando o comando abaixo, os registros de história são eliminados\n",
    "SET spark.databricks.delta.retentionDurationCheck.enabled = false;\n",
    "VACUUM movie_demo.movie_merge RETAIN 0 HOURS"
   ]
  },
  {
   "cell_type": "code",
   "execution_count": 0,
   "metadata": {
    "application/vnd.databricks.v1+cell": {
     "cellMetadata": {
      "byteLimit": 2048000,
      "implicitDf": true,
      "rowLimit": 10000
     },
     "inputWidgets": {},
     "nuid": "cc94bff9-790d-469a-845a-f43d3e87b919",
     "showTitle": false,
     "tableResultSettingsMap": {},
     "title": ""
    }
   },
   "outputs": [],
   "source": [
    "%sql\n",
    "-- Verificando o conteúdo da tabela em um momento específico do tempo, neste caso versão 1\n",
    "SELECT * FROM movie_demo.movie_merge TIMESTAMP AS OF '2025-05-11T15:26:26.000+00:00';"
   ]
  },
  {
   "cell_type": "code",
   "execution_count": 0,
   "metadata": {
    "application/vnd.databricks.v1+cell": {
     "cellMetadata": {
      "byteLimit": 2048000,
      "implicitDf": true,
      "rowLimit": 10000
     },
     "inputWidgets": {},
     "nuid": "c9c41926-2814-49b8-ac87-ac16dc33ece1",
     "showTitle": false,
     "tableResultSettingsMap": {},
     "title": ""
    }
   },
   "outputs": [],
   "source": [
    "%sql\n",
    "DESC HISTORY movie_demo.movie_merge"
   ]
  },
  {
   "cell_type": "code",
   "execution_count": 0,
   "metadata": {
    "application/vnd.databricks.v1+cell": {
     "cellMetadata": {
      "byteLimit": 2048000,
      "implicitDf": true,
      "rowLimit": 10000
     },
     "inputWidgets": {},
     "nuid": "6ff5404f-5054-4b57-a281-980d678e62f5",
     "showTitle": false,
     "tableResultSettingsMap": {},
     "title": ""
    }
   },
   "outputs": [],
   "source": [
    "%sql\n",
    "DELETE FROM movie_demo.movie_merge\n",
    "WHERE yearReleaseDate = 2004;"
   ]
  },
  {
   "cell_type": "code",
   "execution_count": 0,
   "metadata": {
    "application/vnd.databricks.v1+cell": {
     "cellMetadata": {
      "byteLimit": 2048000,
      "implicitDf": true,
      "rowLimit": 10000
     },
     "inputWidgets": {},
     "nuid": "dbb5cf62-7fa2-4a63-84d8-4ed604da6bac",
     "showTitle": false,
     "tableResultSettingsMap": {},
     "title": ""
    }
   },
   "outputs": [],
   "source": [
    "%sql\n",
    "SELECT * FROM movie_demo.movie_merge VERSION AS OF 9\n",
    "WHERE yearReleaseDate = 2004;"
   ]
  },
  {
   "cell_type": "code",
   "execution_count": 0,
   "metadata": {
    "application/vnd.databricks.v1+cell": {
     "cellMetadata": {
      "byteLimit": 2048000,
      "implicitDf": true,
      "rowLimit": 10000
     },
     "inputWidgets": {},
     "nuid": "5d3972a8-97d7-4316-93cf-64bc607b82fd",
     "showTitle": false,
     "tableResultSettingsMap": {},
     "title": ""
    }
   },
   "outputs": [],
   "source": [
    "%sql\n",
    "-- Recuperando os 4 registros deletados\n",
    "MERGE INTO movie_demo.movie_merge tgt\n",
    "USING movie_demo.movie_merge VERSION AS OF 9 src\n",
    "ON tgt.movieId = src.movieId\n",
    "WHEN MATCHED THEN UPDATE SET *\n",
    "WHEN NOT MATCHED THEN INSERT *"
   ]
  },
  {
   "cell_type": "markdown",
   "metadata": {
    "application/vnd.databricks.v1+cell": {
     "cellMetadata": {},
     "inputWidgets": {},
     "nuid": "4d167827-26bc-4db6-ad0f-e9e606091bad",
     "showTitle": false,
     "tableResultSettingsMap": {},
     "title": ""
    }
   },
   "source": [
    "### Transaction Log en Delta Lake\n",
    "\n",
    "##### Por padrão, o Delta Lake mantém o histórico por 30 dias, mas esse valor pode ser configurado.\n",
    "#####delta.logRetentionDuration – controla quanto tempo o log de transações (Delta Log) é mantido.\n",
    "#####delta.deletedFileRetentionDuration – controla quanto tempo os arquivos de dados marcados como excluídos são mantidos antes da limpeza (vacuum).\n"
   ]
  },
  {
   "cell_type": "code",
   "execution_count": 0,
   "metadata": {
    "application/vnd.databricks.v1+cell": {
     "cellMetadata": {
      "byteLimit": 2048000,
      "implicitDf": true,
      "rowLimit": 10000
     },
     "inputWidgets": {},
     "nuid": "04b3eb3d-9f96-450e-b9ba-9d82e507a772",
     "showTitle": false,
     "tableResultSettingsMap": {},
     "title": ""
    }
   },
   "outputs": [],
   "source": [
    "%sql\n",
    "CREATE TABLE IF NOT EXISTS movie_demo.movie_log(\n",
    "  movieId INT,\n",
    "  title STRING,\n",
    "  yearReleaseDate INT,\n",
    "  releaseDate DATE,\n",
    "  durationTime INT,\n",
    "  createdDate DATE,\n",
    "  updatedDate DATE\n",
    ")\n",
    "USING DELTA"
   ]
  },
  {
   "cell_type": "code",
   "execution_count": 0,
   "metadata": {
    "application/vnd.databricks.v1+cell": {
     "cellMetadata": {
      "byteLimit": 2048000,
      "implicitDf": true,
      "rowLimit": 10000
     },
     "inputWidgets": {},
     "nuid": "7917579c-d925-4b5c-95de-1aa144396228",
     "showTitle": false,
     "tableResultSettingsMap": {},
     "title": ""
    }
   },
   "outputs": [],
   "source": [
    "%sql\n",
    "DESC HISTORY movie_demo.movie_log;"
   ]
  },
  {
   "cell_type": "code",
   "execution_count": 0,
   "metadata": {
    "application/vnd.databricks.v1+cell": {
     "cellMetadata": {
      "byteLimit": 2048000,
      "implicitDf": true,
      "rowLimit": 10000
     },
     "inputWidgets": {},
     "nuid": "22330865-6fb7-430b-a8ca-267323030131",
     "showTitle": false,
     "tableResultSettingsMap": {},
     "title": ""
    }
   },
   "outputs": [],
   "source": [
    "%sql\n",
    "INSERT INTO movie_demo.movie_log\n",
    "SELECT * FROM movie_demo.movie_merge\n",
    "WHERE movieId = 125537"
   ]
  },
  {
   "cell_type": "code",
   "execution_count": 0,
   "metadata": {
    "application/vnd.databricks.v1+cell": {
     "cellMetadata": {
      "byteLimit": 2048000,
      "implicitDf": true,
      "rowLimit": 10000
     },
     "inputWidgets": {},
     "nuid": "c8eabd15-6036-4deb-8175-a1f18b0bdd10",
     "showTitle": false,
     "tableResultSettingsMap": {},
     "title": ""
    }
   },
   "outputs": [],
   "source": [
    "%sql DESC HISTORY movie_demo.movie_log"
   ]
  },
  {
   "cell_type": "code",
   "execution_count": 0,
   "metadata": {
    "application/vnd.databricks.v1+cell": {
     "cellMetadata": {
      "byteLimit": 2048000,
      "implicitDf": true,
      "rowLimit": 10000
     },
     "inputWidgets": {},
     "nuid": "dd56b0bf-bd83-493b-a778-a7664f5dc9c6",
     "showTitle": false,
     "tableResultSettingsMap": {},
     "title": ""
    }
   },
   "outputs": [],
   "source": [
    "%sql\n",
    "DELETE FROM movie_demo.movie_log\n",
    "WHERE movieId = 125537"
   ]
  },
  {
   "cell_type": "code",
   "execution_count": 0,
   "metadata": {
    "application/vnd.databricks.v1+cell": {
     "cellMetadata": {
      "byteLimit": 2048000,
      "implicitDf": true,
      "rowLimit": 10000
     },
     "inputWidgets": {},
     "nuid": "c741d17c-d694-4685-80c1-78e001d981b4",
     "showTitle": false,
     "tableResultSettingsMap": {},
     "title": ""
    }
   },
   "outputs": [],
   "source": [
    "%sql DESC HISTORY movie_demo.movie_log"
   ]
  },
  {
   "cell_type": "code",
   "execution_count": 0,
   "metadata": {
    "application/vnd.databricks.v1+cell": {
     "cellMetadata": {
      "byteLimit": 2048000,
      "rowLimit": 10000
     },
     "inputWidgets": {},
     "nuid": "3287d2b2-a88b-447a-9770-a5f7f6baf930",
     "showTitle": false,
     "tableResultSettingsMap": {},
     "title": ""
    }
   },
   "outputs": [],
   "source": [
    "# Este comando gera várias arquivos parquet no storage e na pasta log para cada versão\n",
    "List = [118452, 124606, 125052, 12523, 125623]\n",
    "for movieId in List:\n",
    "  spark.sql(f\"\"\"INSERT INTO movie_demo.movie_log\n",
    "            SELECT * FROM movie_demo.movie_merge \n",
    "            WHERE movieId = {movieId}\"\"\")"
   ]
  },
  {
   "cell_type": "code",
   "execution_count": 0,
   "metadata": {
    "application/vnd.databricks.v1+cell": {
     "cellMetadata": {
      "byteLimit": 2048000,
      "implicitDf": true,
      "rowLimit": 10000
     },
     "inputWidgets": {},
     "nuid": "4acaa9a1-69b3-460d-af08-d9e7f69f4707",
     "showTitle": false,
     "tableResultSettingsMap": {},
     "title": ""
    }
   },
   "outputs": [],
   "source": [
    "%sql\n",
    "--Este comando gera um único arquivos parquet no storage e na pasta log\n",
    "INSERT INTO movie_demo.movie_log\n",
    "SELECT * FROM movie_demo.movie_merge"
   ]
  },
  {
   "cell_type": "code",
   "execution_count": 0,
   "metadata": {
    "application/vnd.databricks.v1+cell": {
     "cellMetadata": {},
     "inputWidgets": {},
     "nuid": "b32aa075-2aca-4c61-a0a3-1453e83b9441",
     "showTitle": false,
     "tableResultSettingsMap": {},
     "title": ""
    }
   },
   "outputs": [],
   "source": []
  },
  {
   "cell_type": "markdown",
   "metadata": {
    "application/vnd.databricks.v1+cell": {
     "cellMetadata": {},
     "inputWidgets": {},
     "nuid": "d2b03726-e321-434c-a81a-9b8702ef1a00",
     "showTitle": false,
     "tableResultSettingsMap": {},
     "title": ""
    }
   },
   "source": [
    "### Convertir formato \"Parquet\" a \"Delta\""
   ]
  },
  {
   "cell_type": "code",
   "execution_count": 0,
   "metadata": {
    "application/vnd.databricks.v1+cell": {
     "cellMetadata": {
      "byteLimit": 2048000,
      "implicitDf": true,
      "rowLimit": 10000
     },
     "inputWidgets": {},
     "nuid": "7b45151c-6604-49be-bd2a-f99d534c96c6",
     "showTitle": false,
     "tableResultSettingsMap": {},
     "title": ""
    }
   },
   "outputs": [],
   "source": [
    "%sql\n",
    "-- Quando criamos uma tabela parquet, o databricks somente cria uma pasta vazia no storage, diferente da delta\n",
    "CREATE TABLE IF NOT EXISTS movie_demo.movie_convert_to_delta(\n",
    "  movieId INT,\n",
    "  title STRING,\n",
    "  yearReleaseDate INT,\n",
    "  releaseDate DATE,\n",
    "  durationTime INT,\n",
    "  createdDate DATE,\n",
    "  updatedDate DATE\n",
    ")\n",
    "USING PARQUET"
   ]
  },
  {
   "cell_type": "code",
   "execution_count": 0,
   "metadata": {
    "application/vnd.databricks.v1+cell": {
     "cellMetadata": {
      "byteLimit": 2048000,
      "implicitDf": true,
      "rowLimit": 10000
     },
     "inputWidgets": {},
     "nuid": "c83f753a-1adf-4df2-8a45-a68977573e8b",
     "showTitle": false,
     "tableResultSettingsMap": {},
     "title": ""
    }
   },
   "outputs": [],
   "source": [
    "%sql\n",
    "-- Esta instruão vai gerar os arquivos parquet no storage, sem controle de versão\n",
    "INSERT INTO movie_demo.movie_convert_to_delta\n",
    "SELECT * FROM movie_demo.movie_merge"
   ]
  },
  {
   "cell_type": "code",
   "execution_count": 0,
   "metadata": {
    "application/vnd.databricks.v1+cell": {
     "cellMetadata": {
      "byteLimit": 2048000,
      "implicitDf": true,
      "rowLimit": 10000
     },
     "inputWidgets": {},
     "nuid": "13b04240-5262-4d9b-bae8-c7772410c5b0",
     "showTitle": false,
     "tableResultSettingsMap": {},
     "title": ""
    }
   },
   "outputs": [],
   "source": [
    "%sql\n",
    "select * from _sqldf ;"
   ]
  },
  {
   "cell_type": "code",
   "execution_count": 0,
   "metadata": {
    "application/vnd.databricks.v1+cell": {
     "cellMetadata": {
      "byteLimit": 2048000,
      "implicitDf": true,
      "rowLimit": 10000
     },
     "inputWidgets": {},
     "nuid": "75fab402-e71d-494a-826c-3df0432253bf",
     "showTitle": false,
     "tableResultSettingsMap": {},
     "title": ""
    }
   },
   "outputs": [],
   "source": [
    "%sql\n",
    "-- Este comando vai converter a tabela e gerar a pasta delta_log no storage, permitindo o controle de versão\n",
    "CONVERT TO DELTA movie_demo.movie_convert_to_delta;"
   ]
  },
  {
   "cell_type": "code",
   "execution_count": 0,
   "metadata": {
    "application/vnd.databricks.v1+cell": {
     "cellMetadata": {
      "byteLimit": 2048000,
      "rowLimit": 10000
     },
     "inputWidgets": {},
     "nuid": "3493725b-be9d-4cbd-aa20-cd2e6c480572",
     "showTitle": false,
     "tableResultSettingsMap": {},
     "title": ""
    }
   },
   "outputs": [],
   "source": [
    "df = spark.table(\"movie_demo.movie_convert_to_delta\")\n",
    "df.display()"
   ]
  },
  {
   "cell_type": "code",
   "execution_count": 0,
   "metadata": {
    "application/vnd.databricks.v1+cell": {
     "cellMetadata": {
      "byteLimit": 2048000,
      "rowLimit": 10000
     },
     "inputWidgets": {},
     "nuid": "8b4e5777-895b-46aa-91a9-65b09e326763",
     "showTitle": false,
     "tableResultSettingsMap": {},
     "title": ""
    }
   },
   "outputs": [],
   "source": [
    "df.write.format(\"parquet\").save(\"/mnt/moviehistoryadilmor/demo/movie_convert_to_delta_new\")"
   ]
  },
  {
   "cell_type": "code",
   "execution_count": 0,
   "metadata": {
    "application/vnd.databricks.v1+cell": {
     "cellMetadata": {
      "byteLimit": 2048000,
      "implicitDf": true,
      "rowLimit": 10000
     },
     "inputWidgets": {},
     "nuid": "fff09f6d-20d4-4b5e-b37f-6dd696f17d26",
     "showTitle": false,
     "tableResultSettingsMap": {},
     "title": ""
    }
   },
   "outputs": [],
   "source": [
    "%sql\n",
    "CONVERT TO DELTA parquet.`/mnt/moviehistoryadilmor/demo/movie_convert_to_delta_new`"
   ]
  }
 ],
 "metadata": {
  "application/vnd.databricks.v1+notebook": {
   "computePreferences": null,
   "dashboards": [],
   "environmentMetadata": {
    "base_environment": "",
    "environment_version": "2"
   },
   "inputWidgetPreferences": null,
   "language": "python",
   "notebookMetadata": {
    "mostRecentlyExecutedCommandWithImplicitDF": {
     "commandId": 5270540581264084,
     "dataframes": [
      "_sqldf"
     ]
    },
    "pythonIndentUnit": 4
   },
   "notebookName": "10.delta_lake_demo",
   "widgets": {}
  },
  "language_info": {
   "name": "python"
  }
 },
 "nbformat": 4,
 "nbformat_minor": 0
}
