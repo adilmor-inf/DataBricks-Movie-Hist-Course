{
 "cells": [
  {
   "cell_type": "code",
   "execution_count": 0,
   "metadata": {
    "application/vnd.databricks.v1+cell": {
     "cellMetadata": {
      "byteLimit": 2048000,
      "rowLimit": 10000
     },
     "inputWidgets": {},
     "nuid": "5464f584-747d-4073-a9d9-1cd76e8d53dc",
     "showTitle": false,
     "tableResultSettingsMap": {},
     "title": ""
    }
   },
   "outputs": [],
   "source": [
    "USE movie_gold"
   ]
  },
  {
   "cell_type": "code",
   "execution_count": 0,
   "metadata": {
    "application/vnd.databricks.v1+cell": {
     "cellMetadata": {
      "byteLimit": 2048000,
      "rowLimit": 10000
     },
     "inputWidgets": {},
     "nuid": "08eb7aa1-575a-4023-b2a1-3a5891e3fe94",
     "showTitle": false,
     "tableResultSettingsMap": {},
     "title": ""
    }
   },
   "outputs": [],
   "source": [
    "SELECT country_name,\n",
    "       COUNT(country_name) AS total_movie,\n",
    "       CAST(SUM(budget) AS DECIMAL(18,2)) AS total_budget,\n",
    "       CAST(AVG(budget) AS DECIMAL(18,2)) AS avg_budget,\n",
    "       CAST(SUM(revenue) AS DECIMAL(18,2)) AS total_revenue,\n",
    "       CAST(AVG(revenue) AS DECIMAL(18,2)) AS avg_revenue\n",
    "FROM results_movie\n",
    "WHERE year_release_date BETWEEN 2010 AND 2015\n",
    "GROUP BY country_name\n",
    "ORDER BY total_revenue DESC;\n"
   ]
  }
 ],
 "metadata": {
  "application/vnd.databricks.v1+notebook": {
   "computePreferences": null,
   "dashboards": [],
   "environmentMetadata": {
    "base_environment": "",
    "environment_version": "2"
   },
   "inputWidgetPreferences": null,
   "language": "sql",
   "notebookMetadata": {
    "pythonIndentUnit": 4
   },
   "notebookName": "01.budget_revenue_country",
   "widgets": {}
  },
  "language_info": {
   "name": "sql"
  }
 },
 "nbformat": 4,
 "nbformat_minor": 0
}
