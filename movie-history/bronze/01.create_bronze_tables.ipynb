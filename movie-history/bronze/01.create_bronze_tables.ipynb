{
 "cells": [
  {
   "cell_type": "code",
   "execution_count": 0,
   "metadata": {
    "application/vnd.databricks.v1+cell": {
     "cellMetadata": {
      "byteLimit": 2048000,
      "rowLimit": 10000
     },
     "inputWidgets": {},
     "nuid": "5f7ac2ac-a433-448c-851c-55eebc71083f",
     "showTitle": false,
     "tableResultSettingsMap": {},
     "title": ""
    }
   },
   "outputs": [],
   "source": [
    "CREATE SCHEMA IF NOT EXISTS movie_bronze"
   ]
  },
  {
   "cell_type": "markdown",
   "metadata": {
    "application/vnd.databricks.v1+cell": {
     "cellMetadata": {},
     "inputWidgets": {},
     "nuid": "f00046de-0b1b-479e-84ac-64f20ec6240f",
     "showTitle": false,
     "tableResultSettingsMap": {},
     "title": ""
    }
   },
   "source": [
    "### Crear tablas para archivos CSV\n",
    "\n",
    "####Crear la tabla \"movies\""
   ]
  },
  {
   "cell_type": "code",
   "execution_count": 0,
   "metadata": {
    "application/vnd.databricks.v1+cell": {
     "cellMetadata": {
      "byteLimit": 2048000,
      "rowLimit": 10000
     },
     "inputWidgets": {},
     "nuid": "a8c0222f-8c9f-4046-95de-6e2d79b184be",
     "showTitle": false,
     "tableResultSettingsMap": {},
     "title": ""
    }
   },
   "outputs": [],
   "source": [
    "DROP TABLE IF EXISTS movie_bronze.movies;\n",
    "\n",
    "CREATE TABLE movie_bronze.movies (\n",
    "movie_id int,\n",
    "title string,\n",
    "budget double,\n",
    "homePage string,\n",
    "overviw string,\n",
    "popularity double,\n",
    "year_release_date int,\n",
    "release_date date,\n",
    "revenue double,\n",
    "duration_time int,\n",
    "movie_status string,\n",
    "tagline string,\n",
    "vote_average double,\n",
    "vote_count INTEGER\n",
    ")\n",
    "USING CSV\n",
    "OPTIONS (path \"/mnt/moviehistoryadilmor/bronze/movie.csv\", header true);"
   ]
  },
  {
   "cell_type": "code",
   "execution_count": 0,
   "metadata": {
    "application/vnd.databricks.v1+cell": {
     "cellMetadata": {
      "byteLimit": 2048000,
      "rowLimit": 10000
     },
     "inputWidgets": {},
     "nuid": "38a8e7d3-e8f6-470f-93aa-383cded9a8d9",
     "showTitle": false,
     "tableResultSettingsMap": {},
     "title": ""
    }
   },
   "outputs": [],
   "source": [
    "SELECT * FROM movie_bronze.movies"
   ]
  },
  {
   "cell_type": "markdown",
   "metadata": {
    "application/vnd.databricks.v1+cell": {
     "cellMetadata": {},
     "inputWidgets": {},
     "nuid": "a46f79cd-9a08-478b-8029-d5177d513848",
     "showTitle": false,
     "tableResultSettingsMap": {},
     "title": ""
    }
   },
   "source": [
    "####Crear la tabla \"languages\""
   ]
  },
  {
   "cell_type": "code",
   "execution_count": 0,
   "metadata": {
    "application/vnd.databricks.v1+cell": {
     "cellMetadata": {
      "byteLimit": 2048000,
      "rowLimit": 10000
     },
     "inputWidgets": {},
     "nuid": "4fd7333e-62f1-4ae7-9445-74da22ad2ffe",
     "showTitle": false,
     "tableResultSettingsMap": {},
     "title": ""
    }
   },
   "outputs": [],
   "source": [
    "DROP TABLE IF EXISTS movie_bronze.languages;\n",
    "\n",
    "CREATE TABLE movie_bronze.languages (\n",
    "LanguageID integer,\n",
    "LanguageCode string,\n",
    "LanguageName string\n",
    ")\n",
    "USING CSV\n",
    "OPTIONS (path \"/mnt/moviehistoryadilmor/bronze/language.csv\", header true);"
   ]
  },
  {
   "cell_type": "code",
   "execution_count": 0,
   "metadata": {
    "application/vnd.databricks.v1+cell": {
     "cellMetadata": {
      "byteLimit": 2048000,
      "rowLimit": 10000
     },
     "inputWidgets": {},
     "nuid": "59b4b395-f9a5-4f0a-bb04-22cfb96bac4c",
     "showTitle": false,
     "tableResultSettingsMap": {},
     "title": ""
    }
   },
   "outputs": [],
   "source": [
    "USE movie_bronze;\n",
    "SELECT * FROM languages;"
   ]
  },
  {
   "cell_type": "markdown",
   "metadata": {
    "application/vnd.databricks.v1+cell": {
     "cellMetadata": {},
     "inputWidgets": {},
     "nuid": "8e7d2ed4-f45f-41bc-842a-1573e578e8c9",
     "showTitle": false,
     "tableResultSettingsMap": {},
     "title": ""
    }
   },
   "source": [
    "####Crear la tabla \"genres\""
   ]
  },
  {
   "cell_type": "code",
   "execution_count": 0,
   "metadata": {
    "application/vnd.databricks.v1+cell": {
     "cellMetadata": {
      "byteLimit": 2048000,
      "rowLimit": 10000
     },
     "inputWidgets": {},
     "nuid": "a7e25c36-417b-4f97-b812-0af06ce5f0de",
     "showTitle": false,
     "tableResultSettingsMap": {},
     "title": ""
    }
   },
   "outputs": [],
   "source": [
    "DROP TABLE IF EXISTS movie_bronze.languages;\n",
    "\n",
    "CREATE TABLE movie_bronze.genres (\n",
    "genreId integer,\n",
    "genreName string\n",
    ")\n",
    "USING CSV\n",
    "OPTIONS (path \"/mnt/moviehistoryadilmor/bronze/genre.csv\", header true);"
   ]
  },
  {
   "cell_type": "code",
   "execution_count": 0,
   "metadata": {
    "application/vnd.databricks.v1+cell": {
     "cellMetadata": {
      "byteLimit": 2048000,
      "rowLimit": 10000
     },
     "inputWidgets": {},
     "nuid": "db4651de-c304-4f32-9945-b77866f7e71d",
     "showTitle": false,
     "tableResultSettingsMap": {},
     "title": ""
    }
   },
   "outputs": [],
   "source": [
    "SELECT * FROM genres;"
   ]
  },
  {
   "cell_type": "markdown",
   "metadata": {
    "application/vnd.databricks.v1+cell": {
     "cellMetadata": {},
     "inputWidgets": {},
     "nuid": "3ac66459-ee64-4e66-9d72-b770913e0268",
     "showTitle": false,
     "tableResultSettingsMap": {},
     "title": ""
    }
   },
   "source": [
    "### Crear tablas para archivos JSON\n",
    "\n",
    "####Crear la tabla \"countries\"\n",
    "- JSON de una sola línea\n",
    "- Estructura simples\n"
   ]
  },
  {
   "cell_type": "code",
   "execution_count": 0,
   "metadata": {
    "application/vnd.databricks.v1+cell": {
     "cellMetadata": {
      "byteLimit": 2048000,
      "rowLimit": 10000
     },
     "inputWidgets": {},
     "nuid": "8a2e21bf-eec3-43c1-8f2a-e0eb04d4d8f7",
     "showTitle": false,
     "tableResultSettingsMap": {},
     "title": ""
    }
   },
   "outputs": [],
   "source": [
    "DROP TABLE IF EXISTS movie_bronze.countries;\n",
    "\n",
    "CREATE TABLE movie_bronze.countries (\n",
    "countryId INT, \n",
    "countryIsoCode STRING, \n",
    "countryName STRING\n",
    ")\n",
    "USING JSON\n",
    "OPTIONS (path \"/mnt/moviehistoryadilmor/bronze/country.json\");"
   ]
  },
  {
   "cell_type": "code",
   "execution_count": 0,
   "metadata": {
    "application/vnd.databricks.v1+cell": {
     "cellMetadata": {
      "byteLimit": 2048000,
      "rowLimit": 10000
     },
     "inputWidgets": {},
     "nuid": "ea176eff-a3f3-4376-b82b-22ae7fae6b00",
     "showTitle": false,
     "tableResultSettingsMap": {},
     "title": ""
    }
   },
   "outputs": [],
   "source": [
    "SELECT * FROM movie_bronze.countries"
   ]
  },
  {
   "cell_type": "markdown",
   "metadata": {
    "application/vnd.databricks.v1+cell": {
     "cellMetadata": {},
     "inputWidgets": {},
     "nuid": "1f4db9dc-e483-4a04-8a5a-cf7e15f73db4",
     "showTitle": false,
     "tableResultSettingsMap": {},
     "title": ""
    }
   },
   "source": [
    "####Crear la tabla \"persons\"\n",
    "- JSON de una sola línea\n",
    "- Estructura compleja"
   ]
  },
  {
   "cell_type": "code",
   "execution_count": 0,
   "metadata": {
    "application/vnd.databricks.v1+cell": {
     "cellMetadata": {
      "byteLimit": 2048000,
      "rowLimit": 10000
     },
     "inputWidgets": {},
     "nuid": "a329f012-ef76-4372-9b54-35eb9ad03dfb",
     "showTitle": false,
     "tableResultSettingsMap": {},
     "title": ""
    }
   },
   "outputs": [],
   "source": [
    "DROP TABLE IF EXISTS movie_bronze.persons;\n",
    "\n",
    "CREATE TABLE movie_bronze.persons (\n",
    "personId INT, \n",
    "personName STRUCT<forename:STRING, surname:STRING>\n",
    ")\n",
    "USING JSON\n",
    "OPTIONS (path \"/mnt/moviehistoryadilmor/bronze/person.json\");"
   ]
  },
  {
   "cell_type": "code",
   "execution_count": 0,
   "metadata": {
    "application/vnd.databricks.v1+cell": {
     "cellMetadata": {
      "byteLimit": 2048000,
      "rowLimit": 10000
     },
     "inputWidgets": {},
     "nuid": "4ed27912-852d-4f57-90f4-4d7ae02f4485",
     "showTitle": false,
     "tableResultSettingsMap": {},
     "title": ""
    }
   },
   "outputs": [],
   "source": [
    "SELECT * FROM movie_bronze.persons"
   ]
  },
  {
   "cell_type": "markdown",
   "metadata": {
    "application/vnd.databricks.v1+cell": {
     "cellMetadata": {},
     "inputWidgets": {},
     "nuid": "0e0f27c2-bcb4-44d6-8439-c19d70128509",
     "showTitle": false,
     "tableResultSettingsMap": {},
     "title": ""
    }
   },
   "source": [
    "####Crear la tabla \"movie_genres\"\n",
    "- JSON de una sola línea\n",
    "- Estructura simples"
   ]
  },
  {
   "cell_type": "code",
   "execution_count": 0,
   "metadata": {
    "application/vnd.databricks.v1+cell": {
     "cellMetadata": {
      "byteLimit": 2048000,
      "rowLimit": 10000
     },
     "inputWidgets": {},
     "nuid": "471cc538-5f61-4cc9-893b-d70fef0e9318",
     "showTitle": false,
     "tableResultSettingsMap": {},
     "title": ""
    }
   },
   "outputs": [],
   "source": [
    "DROP TABLE IF EXISTS movie_bronze.movies_genres;\n",
    "\n",
    "CREATE TABLE movie_bronze.movies_genres (\n",
    "genreId INT, \n",
    "movieId INT\n",
    ")\n",
    "USING JSON\n",
    "OPTIONS (path \"/mnt/moviehistoryadilmor/bronze/movie_genre.json\");"
   ]
  },
  {
   "cell_type": "code",
   "execution_count": 0,
   "metadata": {
    "application/vnd.databricks.v1+cell": {
     "cellMetadata": {
      "byteLimit": 2048000,
      "rowLimit": 10000
     },
     "inputWidgets": {},
     "nuid": "ac5a0646-bc84-4016-a751-3b3170935e8a",
     "showTitle": false,
     "tableResultSettingsMap": {},
     "title": ""
    }
   },
   "outputs": [],
   "source": [
    "SELECT * FROM movie_bronze.movies_genres"
   ]
  },
  {
   "cell_type": "markdown",
   "metadata": {
    "application/vnd.databricks.v1+cell": {
     "cellMetadata": {},
     "inputWidgets": {},
     "nuid": "b3fc059b-58af-499d-aa89-e5f4a2da7115",
     "showTitle": false,
     "tableResultSettingsMap": {},
     "title": ""
    }
   },
   "source": [
    "####Crear la tabla \"movie_casts\"\n",
    "- JSON Multilínea\n",
    "- Estructura simples"
   ]
  },
  {
   "cell_type": "code",
   "execution_count": 0,
   "metadata": {
    "application/vnd.databricks.v1+cell": {
     "cellMetadata": {
      "byteLimit": 2048000,
      "rowLimit": 10000
     },
     "inputWidgets": {},
     "nuid": "9e5aaeac-e1b7-4846-95a1-7171e20fd8f1",
     "showTitle": false,
     "tableResultSettingsMap": {},
     "title": ""
    }
   },
   "outputs": [],
   "source": [
    "DROP TABLE IF EXISTS movie_bronze.movies_casts;\n",
    "\n",
    "CREATE TABLE movie_bronze.movies_casts (\n",
    "movieId integer,\n",
    "personId integer,\n",
    "characterName string,\n",
    "genderId integer,\n",
    "castOrder integer\n",
    ")\n",
    "USING JSON\n",
    "OPTIONS (path \"/mnt/moviehistoryadilmor/bronze/movie_cast.json\", multiline true);"
   ]
  },
  {
   "cell_type": "code",
   "execution_count": 0,
   "metadata": {
    "application/vnd.databricks.v1+cell": {
     "cellMetadata": {
      "byteLimit": 2048000,
      "rowLimit": 10000
     },
     "inputWidgets": {},
     "nuid": "873c48da-005f-441e-ba0c-5fba05583276",
     "showTitle": false,
     "tableResultSettingsMap": {},
     "title": ""
    }
   },
   "outputs": [],
   "source": [
    "SELECT * FROM movie_bronze.movies_casts"
   ]
  },
  {
   "cell_type": "markdown",
   "metadata": {
    "application/vnd.databricks.v1+cell": {
     "cellMetadata": {},
     "inputWidgets": {},
     "nuid": "301bdcb6-213d-4c7d-ae6d-cac78de24796",
     "showTitle": false,
     "tableResultSettingsMap": {},
     "title": ""
    }
   },
   "source": [
    "####Crear la tabla \"languages_roles\"\n",
    "- JSON Multlínea\n",
    "- Estructura simples"
   ]
  },
  {
   "cell_type": "code",
   "execution_count": 0,
   "metadata": {
    "application/vnd.databricks.v1+cell": {
     "cellMetadata": {
      "byteLimit": 2048000,
      "rowLimit": 10000
     },
     "inputWidgets": {},
     "nuid": "c4ca8c19-b9d2-400e-8fce-c5b607b6381b",
     "showTitle": false,
     "tableResultSettingsMap": {},
     "title": ""
    }
   },
   "outputs": [],
   "source": [
    "DROP TABLE IF EXISTS movie_bronze.languages_roles;\n",
    "\n",
    "CREATE TABLE movie_bronze.languages_roles (\n",
    "roleId integer,\n",
    "languageRole string\n",
    ")\n",
    "USING JSON\n",
    "OPTIONS (path \"/mnt/moviehistoryadilmor/bronze/language_role.json\", multiline true);"
   ]
  },
  {
   "cell_type": "code",
   "execution_count": 0,
   "metadata": {
    "application/vnd.databricks.v1+cell": {
     "cellMetadata": {
      "byteLimit": 2048000,
      "rowLimit": 10000
     },
     "inputWidgets": {},
     "nuid": "bb89d433-ee1b-4505-b901-c24969c4e302",
     "showTitle": false,
     "tableResultSettingsMap": {},
     "title": ""
    }
   },
   "outputs": [],
   "source": [
    "SELECT * FROM movie_bronze.languages_roles"
   ]
  },
  {
   "cell_type": "markdown",
   "metadata": {
    "application/vnd.databricks.v1+cell": {
     "cellMetadata": {},
     "inputWidgets": {},
     "nuid": "85a81185-17da-4a23-8f40-54677a263e29",
     "showTitle": false,
     "tableResultSettingsMap": {},
     "title": ""
    }
   },
   "source": [
    "### Crear tablas para Lista de archivos(CSVs y JSONs)\n",
    "\n",
    "####Crear la tabla \"productions_companies\"\n",
    "- Archivo CSV\n",
    "- Múltiples Archivos"
   ]
  },
  {
   "cell_type": "code",
   "execution_count": 0,
   "metadata": {
    "application/vnd.databricks.v1+cell": {
     "cellMetadata": {
      "byteLimit": 2048000,
      "rowLimit": 10000
     },
     "inputWidgets": {},
     "nuid": "f7ed10e2-6587-416c-bcd3-a76c02cdd50e",
     "showTitle": false,
     "tableResultSettingsMap": {},
     "title": ""
    }
   },
   "outputs": [],
   "source": [
    "DROP TABLE IF EXISTS movie_bronze.productions_companies;\n",
    "\n",
    "CREATE TABLE movie_bronze.productions_companies (\n",
    "companyId integer,\n",
    "companyName string\n",
    ")\n",
    "USING CSV\n",
    "OPTIONS (path \"/mnt/moviehistoryadilmor/bronze/production_company/\", header false);"
   ]
  },
  {
   "cell_type": "code",
   "execution_count": 0,
   "metadata": {
    "application/vnd.databricks.v1+cell": {
     "cellMetadata": {
      "byteLimit": 2048000,
      "rowLimit": 10000
     },
     "inputWidgets": {},
     "nuid": "c0ef80af-a744-411f-9f66-51d34e2058eb",
     "showTitle": false,
     "tableResultSettingsMap": {},
     "title": ""
    }
   },
   "outputs": [],
   "source": [
    "SELECT * FROM movie_bronze.productions_companies"
   ]
  },
  {
   "cell_type": "markdown",
   "metadata": {
    "application/vnd.databricks.v1+cell": {
     "cellMetadata": {},
     "inputWidgets": {},
     "nuid": "974316d4-7c28-4cc0-8a57-6808cc87f956",
     "showTitle": false,
     "tableResultSettingsMap": {},
     "title": ""
    }
   },
   "source": [
    "####Crear la tabla \"movies_companies\"\n",
    "- Archivo CSV\n",
    "- Múltiples Archivos"
   ]
  },
  {
   "cell_type": "code",
   "execution_count": 0,
   "metadata": {
    "application/vnd.databricks.v1+cell": {
     "cellMetadata": {
      "byteLimit": 2048000,
      "rowLimit": 10000
     },
     "inputWidgets": {},
     "nuid": "e0331f26-abb7-46e9-ac53-eca9729626f7",
     "showTitle": false,
     "tableResultSettingsMap": {},
     "title": ""
    }
   },
   "outputs": [],
   "source": [
    "DROP TABLE IF EXISTS movie_bronze.movies_companies;\n",
    "\n",
    "CREATE TABLE movie_bronze.movies_companies (\n",
    "movie_id integer,\n",
    "company_id integer\n",
    ")\n",
    "USING CSV\n",
    "OPTIONS (path \"/mnt/moviehistoryadilmor/bronze/movie_company/\", header true);"
   ]
  },
  {
   "cell_type": "code",
   "execution_count": 0,
   "metadata": {
    "application/vnd.databricks.v1+cell": {
     "cellMetadata": {
      "byteLimit": 2048000,
      "rowLimit": 10000
     },
     "inputWidgets": {},
     "nuid": "5c690060-7777-4ab0-af88-17217ec3a6da",
     "showTitle": false,
     "tableResultSettingsMap": {},
     "title": ""
    }
   },
   "outputs": [],
   "source": [
    "SELECT * FROM movie_bronze.movies_companies"
   ]
  },
  {
   "cell_type": "markdown",
   "metadata": {
    "application/vnd.databricks.v1+cell": {
     "cellMetadata": {},
     "inputWidgets": {},
     "nuid": "eb0a5a3d-4fa0-4f87-a081-c1e42fe81048",
     "showTitle": false,
     "tableResultSettingsMap": {},
     "title": ""
    }
   },
   "source": [
    "####Crear la tabla \"movies_languages\"\n",
    "- Archivo JSON Multlínea\n",
    "- Múltiples Archivos"
   ]
  },
  {
   "cell_type": "code",
   "execution_count": 0,
   "metadata": {
    "application/vnd.databricks.v1+cell": {
     "cellMetadata": {
      "byteLimit": 2048000,
      "rowLimit": 10000
     },
     "inputWidgets": {},
     "nuid": "288add93-86f5-4704-bd09-07cbff7799dd",
     "showTitle": false,
     "tableResultSettingsMap": {},
     "title": ""
    }
   },
   "outputs": [],
   "source": [
    "DROP TABLE IF EXISTS movie_bronze.movies_languages;\n",
    "\n",
    "CREATE TABLE movie_bronze.movies_languages (\n",
    "movieId integer,\n",
    "languageId integer,\n",
    "languageRoleId string\n",
    ")\n",
    "USING JSON\n",
    "OPTIONS (path \"/mnt/moviehistoryadilmor/bronze/movie_language\", multiline true);"
   ]
  },
  {
   "cell_type": "code",
   "execution_count": 0,
   "metadata": {
    "application/vnd.databricks.v1+cell": {
     "cellMetadata": {
      "byteLimit": 2048000,
      "rowLimit": 10000
     },
     "inputWidgets": {},
     "nuid": "9bfa99ea-f274-45b2-883c-3f0d383272f2",
     "showTitle": false,
     "tableResultSettingsMap": {},
     "title": ""
    }
   },
   "outputs": [],
   "source": [
    "SELECT * FROM movie_bronze.movies_languages"
   ]
  },
  {
   "cell_type": "markdown",
   "metadata": {
    "application/vnd.databricks.v1+cell": {
     "cellMetadata": {},
     "inputWidgets": {},
     "nuid": "f5a3de9f-1658-483f-8de0-a35ce523986f",
     "showTitle": false,
     "tableResultSettingsMap": {},
     "title": ""
    }
   },
   "source": [
    "####Crear la tabla \"productions_countries\"\n",
    "- Archivo JSON Multlínea\n",
    "- Múltiples Archivos"
   ]
  },
  {
   "cell_type": "code",
   "execution_count": 0,
   "metadata": {
    "application/vnd.databricks.v1+cell": {
     "cellMetadata": {
      "byteLimit": 2048000,
      "rowLimit": 10000
     },
     "inputWidgets": {},
     "nuid": "9cee11f7-f99f-405a-ac21-4a65d5cf83b2",
     "showTitle": false,
     "tableResultSettingsMap": {},
     "title": ""
    }
   },
   "outputs": [],
   "source": [
    "DROP TABLE IF EXISTS movie_bronze.productions_countries;\n",
    "\n",
    "CREATE TABLE movie_bronze.productions_countries (\n",
    "movieId integer,\n",
    "countryId integer\n",
    ")\n",
    "USING JSON\n",
    "OPTIONS (path \"/mnt/moviehistoryadilmor/bronze/production_country/\", multiline true);"
   ]
  },
  {
   "cell_type": "code",
   "execution_count": 0,
   "metadata": {
    "application/vnd.databricks.v1+cell": {
     "cellMetadata": {
      "byteLimit": 2048000,
      "rowLimit": 10000
     },
     "inputWidgets": {},
     "nuid": "cdc30d23-f0b6-4fa9-a1da-12a0bb0a8152",
     "showTitle": false,
     "tableResultSettingsMap": {},
     "title": ""
    }
   },
   "outputs": [],
   "source": [
    "SELECT * FROM movie_bronze.productions_countries"
   ]
  },
  {
   "cell_type": "markdown",
   "metadata": {
    "application/vnd.databricks.v1+cell": {
     "cellMetadata": {},
     "inputWidgets": {},
     "nuid": "cd2f0bac-b91e-484c-84bb-eba99bcf390a",
     "showTitle": false,
     "tableResultSettingsMap": {},
     "title": ""
    }
   },
   "source": []
  }
 ],
 "metadata": {
  "application/vnd.databricks.v1+notebook": {
   "computePreferences": null,
   "dashboards": [],
   "environmentMetadata": {
    "base_environment": "",
    "environment_version": "2"
   },
   "inputWidgetPreferences": null,
   "language": "sql",
   "notebookMetadata": {
    "pythonIndentUnit": 4
   },
   "notebookName": "01.create_bronze_tables",
   "widgets": {}
  },
  "language_info": {
   "name": "sql"
  }
 },
 "nbformat": 4,
 "nbformat_minor": 0
}
